{
 "cells": [
  {
   "cell_type": "markdown",
   "id": "0055058d",
   "metadata": {},
   "source": [
    "# Spaceship Titanic Transported Prediction\n",
    "\n",
    "Predicting whether a passenger was transported to an alternate dimension during the Spaceship Titanic's collision with the spacetime anomaly. To help you make these predictions, you're given a set of personal records recovered from the ship's damaged computer system.\n",
    "\n",
    "## File and Data Field Descriptions\n",
    "train.csv - Personal records for about two-thirds (~8700) of the passengers, to be used as training data.\n",
    "\n",
    "- PassengerId - A unique Id for each passenger. Each Id takes the form gggg_pp where gggg indicates a group the passenger is -travelling with and pp is their number within the group. People in a group are often family members, but not always.\n",
    "- HomePlanet - The planet the passenger departed from, typically their planet of permanent residence.\n",
    "- CryoSleep - Indicates whether the passenger elected to be put into suspended animation for the duration of the voyage. Passengers in cryosleep are confined to their cabins.\n",
    "- Cabin - The cabin number where the passenger is staying. Takes the form deck/num/side, where side can be either P for Port or S for Starboard.\n",
    "- Destination - The planet the passenger will be debarking to.\n",
    "- Age - The age of the passenger.\n",
    "- VIP - Whether the passenger has paid for special VIP service during the voyage.\n",
    "- RoomService, FoodCourt, ShoppingMall, Spa, VRDeck - Amount the passenger has billed at each of the Spaceship Titanic's many luxury amenities.\n",
    "- Name - The first and last names of the passenger.\n",
    "- Transported - Whether the passenger was transported to another dimension. This is the target, the column you are trying to predict.\n",
    "\n",
    "test.csv - Personal records for the remaining one-third (~4300) of the passengers, to be used as test data. Your task is to predict the value of Transported for the passengers in this set.\n",
    "\n",
    "sample_submission.csv - A submission file in the correct format.\n",
    "PassengerId - Id for each passenger in the test set.\n",
    "Transported - The target. For each passenger, predict either True or False."
   ]
  },
  {
   "cell_type": "markdown",
   "id": "3799868b",
   "metadata": {},
   "source": [
    "## Importing Neccessary Libraries"
   ]
  },
  {
   "cell_type": "code",
   "execution_count": 1,
   "id": "c927ead5",
   "metadata": {},
   "outputs": [],
   "source": [
    "import numpy as np\n",
    "import pandas as pd\n",
    "import matplotlib.pyplot as plt\n",
    "%matplotlib inline\n",
    "import seaborn as sns\n",
    "from pandas_profiling import ProfileReport"
   ]
  },
  {
   "cell_type": "markdown",
   "id": "df9ca521",
   "metadata": {},
   "source": [
    "## Get the Data"
   ]
  },
  {
   "cell_type": "code",
   "execution_count": 2,
   "id": "90a983ca",
   "metadata": {},
   "outputs": [],
   "source": [
    "df = pd.read_csv(\"train.csv\")"
   ]
  },
  {
   "cell_type": "markdown",
   "id": "7fc8dba4",
   "metadata": {},
   "source": [
    "## EDA - Exploratory Data Analysis"
   ]
  },
  {
   "cell_type": "code",
   "execution_count": 3,
   "id": "345b30f1",
   "metadata": {
    "scrolled": true
   },
   "outputs": [
    {
     "data": {
      "text/html": [
       "<div>\n",
       "<style scoped>\n",
       "    .dataframe tbody tr th:only-of-type {\n",
       "        vertical-align: middle;\n",
       "    }\n",
       "\n",
       "    .dataframe tbody tr th {\n",
       "        vertical-align: top;\n",
       "    }\n",
       "\n",
       "    .dataframe thead th {\n",
       "        text-align: right;\n",
       "    }\n",
       "</style>\n",
       "<table border=\"1\" class=\"dataframe\">\n",
       "  <thead>\n",
       "    <tr style=\"text-align: right;\">\n",
       "      <th></th>\n",
       "      <th>PassengerId</th>\n",
       "      <th>HomePlanet</th>\n",
       "      <th>CryoSleep</th>\n",
       "      <th>Cabin</th>\n",
       "      <th>Destination</th>\n",
       "      <th>Age</th>\n",
       "      <th>VIP</th>\n",
       "      <th>RoomService</th>\n",
       "      <th>FoodCourt</th>\n",
       "      <th>ShoppingMall</th>\n",
       "      <th>Spa</th>\n",
       "      <th>VRDeck</th>\n",
       "      <th>Name</th>\n",
       "      <th>Transported</th>\n",
       "    </tr>\n",
       "  </thead>\n",
       "  <tbody>\n",
       "    <tr>\n",
       "      <th>0</th>\n",
       "      <td>0001_01</td>\n",
       "      <td>Europa</td>\n",
       "      <td>False</td>\n",
       "      <td>B/0/P</td>\n",
       "      <td>TRAPPIST-1e</td>\n",
       "      <td>39.0</td>\n",
       "      <td>False</td>\n",
       "      <td>0.0</td>\n",
       "      <td>0.0</td>\n",
       "      <td>0.0</td>\n",
       "      <td>0.0</td>\n",
       "      <td>0.0</td>\n",
       "      <td>Maham Ofracculy</td>\n",
       "      <td>False</td>\n",
       "    </tr>\n",
       "    <tr>\n",
       "      <th>1</th>\n",
       "      <td>0002_01</td>\n",
       "      <td>Earth</td>\n",
       "      <td>False</td>\n",
       "      <td>F/0/S</td>\n",
       "      <td>TRAPPIST-1e</td>\n",
       "      <td>24.0</td>\n",
       "      <td>False</td>\n",
       "      <td>109.0</td>\n",
       "      <td>9.0</td>\n",
       "      <td>25.0</td>\n",
       "      <td>549.0</td>\n",
       "      <td>44.0</td>\n",
       "      <td>Juanna Vines</td>\n",
       "      <td>True</td>\n",
       "    </tr>\n",
       "    <tr>\n",
       "      <th>2</th>\n",
       "      <td>0003_01</td>\n",
       "      <td>Europa</td>\n",
       "      <td>False</td>\n",
       "      <td>A/0/S</td>\n",
       "      <td>TRAPPIST-1e</td>\n",
       "      <td>58.0</td>\n",
       "      <td>True</td>\n",
       "      <td>43.0</td>\n",
       "      <td>3576.0</td>\n",
       "      <td>0.0</td>\n",
       "      <td>6715.0</td>\n",
       "      <td>49.0</td>\n",
       "      <td>Altark Susent</td>\n",
       "      <td>False</td>\n",
       "    </tr>\n",
       "    <tr>\n",
       "      <th>3</th>\n",
       "      <td>0003_02</td>\n",
       "      <td>Europa</td>\n",
       "      <td>False</td>\n",
       "      <td>A/0/S</td>\n",
       "      <td>TRAPPIST-1e</td>\n",
       "      <td>33.0</td>\n",
       "      <td>False</td>\n",
       "      <td>0.0</td>\n",
       "      <td>1283.0</td>\n",
       "      <td>371.0</td>\n",
       "      <td>3329.0</td>\n",
       "      <td>193.0</td>\n",
       "      <td>Solam Susent</td>\n",
       "      <td>False</td>\n",
       "    </tr>\n",
       "    <tr>\n",
       "      <th>4</th>\n",
       "      <td>0004_01</td>\n",
       "      <td>Earth</td>\n",
       "      <td>False</td>\n",
       "      <td>F/1/S</td>\n",
       "      <td>TRAPPIST-1e</td>\n",
       "      <td>16.0</td>\n",
       "      <td>False</td>\n",
       "      <td>303.0</td>\n",
       "      <td>70.0</td>\n",
       "      <td>151.0</td>\n",
       "      <td>565.0</td>\n",
       "      <td>2.0</td>\n",
       "      <td>Willy Santantines</td>\n",
       "      <td>True</td>\n",
       "    </tr>\n",
       "  </tbody>\n",
       "</table>\n",
       "</div>"
      ],
      "text/plain": [
       "  PassengerId HomePlanet CryoSleep  Cabin  Destination   Age    VIP  \\\n",
       "0     0001_01     Europa     False  B/0/P  TRAPPIST-1e  39.0  False   \n",
       "1     0002_01      Earth     False  F/0/S  TRAPPIST-1e  24.0  False   \n",
       "2     0003_01     Europa     False  A/0/S  TRAPPIST-1e  58.0   True   \n",
       "3     0003_02     Europa     False  A/0/S  TRAPPIST-1e  33.0  False   \n",
       "4     0004_01      Earth     False  F/1/S  TRAPPIST-1e  16.0  False   \n",
       "\n",
       "   RoomService  FoodCourt  ShoppingMall     Spa  VRDeck               Name  \\\n",
       "0          0.0        0.0           0.0     0.0     0.0    Maham Ofracculy   \n",
       "1        109.0        9.0          25.0   549.0    44.0       Juanna Vines   \n",
       "2         43.0     3576.0           0.0  6715.0    49.0      Altark Susent   \n",
       "3          0.0     1283.0         371.0  3329.0   193.0       Solam Susent   \n",
       "4        303.0       70.0         151.0   565.0     2.0  Willy Santantines   \n",
       "\n",
       "   Transported  \n",
       "0        False  \n",
       "1         True  \n",
       "2        False  \n",
       "3        False  \n",
       "4         True  "
      ]
     },
     "execution_count": 3,
     "metadata": {},
     "output_type": "execute_result"
    }
   ],
   "source": [
    "# Checking the head\n",
    "df.head()"
   ]
  },
  {
   "cell_type": "code",
   "execution_count": 4,
   "id": "33cb868f",
   "metadata": {},
   "outputs": [],
   "source": [
    "# passenger id separate group (feature engineer)\n",
    "# cabin feature engineering\n",
    "# home planet visualize,home fill - max repeated value and getdummies\n",
    "# Check vip correlation and fill in its missing values\n",
    "# Vip convert object to 0 n 1\n",
    "# Visualize Destination and fill in the max repeated value\n",
    "# Cryo Sleep convert to 0 n 1\n",
    "# Transported convert to 0 n 1\n",
    "# Check Destination"
   ]
  },
  {
   "cell_type": "code",
   "execution_count": 5,
   "id": "6627069a",
   "metadata": {},
   "outputs": [
    {
     "name": "stdout",
     "output_type": "stream",
     "text": [
      "<class 'pandas.core.frame.DataFrame'>\n",
      "RangeIndex: 8693 entries, 0 to 8692\n",
      "Data columns (total 14 columns):\n",
      " #   Column        Non-Null Count  Dtype  \n",
      "---  ------        --------------  -----  \n",
      " 0   PassengerId   8693 non-null   object \n",
      " 1   HomePlanet    8492 non-null   object \n",
      " 2   CryoSleep     8476 non-null   object \n",
      " 3   Cabin         8494 non-null   object \n",
      " 4   Destination   8511 non-null   object \n",
      " 5   Age           8514 non-null   float64\n",
      " 6   VIP           8490 non-null   object \n",
      " 7   RoomService   8512 non-null   float64\n",
      " 8   FoodCourt     8510 non-null   float64\n",
      " 9   ShoppingMall  8485 non-null   float64\n",
      " 10  Spa           8510 non-null   float64\n",
      " 11  VRDeck        8505 non-null   float64\n",
      " 12  Name          8493 non-null   object \n",
      " 13  Transported   8693 non-null   bool   \n",
      "dtypes: bool(1), float64(6), object(7)\n",
      "memory usage: 891.5+ KB\n"
     ]
    }
   ],
   "source": [
    "# info\n",
    "df.info()"
   ]
  },
  {
   "cell_type": "code",
   "execution_count": 6,
   "id": "4edae931",
   "metadata": {},
   "outputs": [
    {
     "data": {
      "text/html": [
       "<div>\n",
       "<style scoped>\n",
       "    .dataframe tbody tr th:only-of-type {\n",
       "        vertical-align: middle;\n",
       "    }\n",
       "\n",
       "    .dataframe tbody tr th {\n",
       "        vertical-align: top;\n",
       "    }\n",
       "\n",
       "    .dataframe thead th {\n",
       "        text-align: right;\n",
       "    }\n",
       "</style>\n",
       "<table border=\"1\" class=\"dataframe\">\n",
       "  <thead>\n",
       "    <tr style=\"text-align: right;\">\n",
       "      <th></th>\n",
       "      <th>Age</th>\n",
       "      <th>RoomService</th>\n",
       "      <th>FoodCourt</th>\n",
       "      <th>ShoppingMall</th>\n",
       "      <th>Spa</th>\n",
       "      <th>VRDeck</th>\n",
       "    </tr>\n",
       "  </thead>\n",
       "  <tbody>\n",
       "    <tr>\n",
       "      <th>count</th>\n",
       "      <td>8514.000000</td>\n",
       "      <td>8512.000000</td>\n",
       "      <td>8510.000000</td>\n",
       "      <td>8485.000000</td>\n",
       "      <td>8510.000000</td>\n",
       "      <td>8505.000000</td>\n",
       "    </tr>\n",
       "    <tr>\n",
       "      <th>mean</th>\n",
       "      <td>28.827930</td>\n",
       "      <td>224.687617</td>\n",
       "      <td>458.077203</td>\n",
       "      <td>173.729169</td>\n",
       "      <td>311.138778</td>\n",
       "      <td>304.854791</td>\n",
       "    </tr>\n",
       "    <tr>\n",
       "      <th>std</th>\n",
       "      <td>14.489021</td>\n",
       "      <td>666.717663</td>\n",
       "      <td>1611.489240</td>\n",
       "      <td>604.696458</td>\n",
       "      <td>1136.705535</td>\n",
       "      <td>1145.717189</td>\n",
       "    </tr>\n",
       "    <tr>\n",
       "      <th>min</th>\n",
       "      <td>0.000000</td>\n",
       "      <td>0.000000</td>\n",
       "      <td>0.000000</td>\n",
       "      <td>0.000000</td>\n",
       "      <td>0.000000</td>\n",
       "      <td>0.000000</td>\n",
       "    </tr>\n",
       "    <tr>\n",
       "      <th>25%</th>\n",
       "      <td>19.000000</td>\n",
       "      <td>0.000000</td>\n",
       "      <td>0.000000</td>\n",
       "      <td>0.000000</td>\n",
       "      <td>0.000000</td>\n",
       "      <td>0.000000</td>\n",
       "    </tr>\n",
       "    <tr>\n",
       "      <th>50%</th>\n",
       "      <td>27.000000</td>\n",
       "      <td>0.000000</td>\n",
       "      <td>0.000000</td>\n",
       "      <td>0.000000</td>\n",
       "      <td>0.000000</td>\n",
       "      <td>0.000000</td>\n",
       "    </tr>\n",
       "    <tr>\n",
       "      <th>75%</th>\n",
       "      <td>38.000000</td>\n",
       "      <td>47.000000</td>\n",
       "      <td>76.000000</td>\n",
       "      <td>27.000000</td>\n",
       "      <td>59.000000</td>\n",
       "      <td>46.000000</td>\n",
       "    </tr>\n",
       "    <tr>\n",
       "      <th>max</th>\n",
       "      <td>79.000000</td>\n",
       "      <td>14327.000000</td>\n",
       "      <td>29813.000000</td>\n",
       "      <td>23492.000000</td>\n",
       "      <td>22408.000000</td>\n",
       "      <td>24133.000000</td>\n",
       "    </tr>\n",
       "  </tbody>\n",
       "</table>\n",
       "</div>"
      ],
      "text/plain": [
       "               Age   RoomService     FoodCourt  ShoppingMall           Spa  \\\n",
       "count  8514.000000   8512.000000   8510.000000   8485.000000   8510.000000   \n",
       "mean     28.827930    224.687617    458.077203    173.729169    311.138778   \n",
       "std      14.489021    666.717663   1611.489240    604.696458   1136.705535   \n",
       "min       0.000000      0.000000      0.000000      0.000000      0.000000   \n",
       "25%      19.000000      0.000000      0.000000      0.000000      0.000000   \n",
       "50%      27.000000      0.000000      0.000000      0.000000      0.000000   \n",
       "75%      38.000000     47.000000     76.000000     27.000000     59.000000   \n",
       "max      79.000000  14327.000000  29813.000000  23492.000000  22408.000000   \n",
       "\n",
       "             VRDeck  \n",
       "count   8505.000000  \n",
       "mean     304.854791  \n",
       "std     1145.717189  \n",
       "min        0.000000  \n",
       "25%        0.000000  \n",
       "50%        0.000000  \n",
       "75%       46.000000  \n",
       "max    24133.000000  "
      ]
     },
     "execution_count": 6,
     "metadata": {},
     "output_type": "execute_result"
    }
   ],
   "source": [
    "df.describe()"
   ]
  },
  {
   "cell_type": "code",
   "execution_count": null,
   "id": "6e8baced",
   "metadata": {},
   "outputs": [],
   "source": []
  },
  {
   "cell_type": "markdown",
   "id": "1e8fb7f8",
   "metadata": {},
   "source": [
    "## Checking for Missing Data"
   ]
  },
  {
   "cell_type": "code",
   "execution_count": 7,
   "id": "66ebf509",
   "metadata": {},
   "outputs": [
    {
     "data": {
      "text/plain": [
       "PassengerId       0\n",
       "HomePlanet      201\n",
       "CryoSleep       217\n",
       "Cabin           199\n",
       "Destination     182\n",
       "Age             179\n",
       "VIP             203\n",
       "RoomService     181\n",
       "FoodCourt       183\n",
       "ShoppingMall    208\n",
       "Spa             183\n",
       "VRDeck          188\n",
       "Name            200\n",
       "Transported       0\n",
       "dtype: int64"
      ]
     },
     "execution_count": 7,
     "metadata": {},
     "output_type": "execute_result"
    }
   ],
   "source": [
    "df.isnull().sum()"
   ]
  },
  {
   "cell_type": "code",
   "execution_count": 8,
   "id": "66a9f0ec",
   "metadata": {},
   "outputs": [
    {
     "data": {
      "text/plain": [
       "PassengerId     0.000000\n",
       "HomePlanet      2.312205\n",
       "CryoSleep       2.496261\n",
       "Cabin           2.289198\n",
       "Destination     2.093639\n",
       "Age             2.059128\n",
       "VIP             2.335212\n",
       "RoomService     2.082135\n",
       "FoodCourt       2.105142\n",
       "ShoppingMall    2.392730\n",
       "Spa             2.105142\n",
       "VRDeck          2.162660\n",
       "Name            2.300702\n",
       "Transported     0.000000\n",
       "dtype: float64"
      ]
     },
     "execution_count": 8,
     "metadata": {},
     "output_type": "execute_result"
    }
   ],
   "source": [
    "df.isna().sum()/len(df)*100"
   ]
  },
  {
   "cell_type": "code",
   "execution_count": 9,
   "id": "6b5e1c93",
   "metadata": {
    "scrolled": true
   },
   "outputs": [
    {
     "data": {
      "text/plain": [
       "RoomService    -0.244611\n",
       "Spa            -0.221131\n",
       "VRDeck         -0.207075\n",
       "Age            -0.075026\n",
       "ShoppingMall    0.010141\n",
       "FoodCourt       0.046566\n",
       "Transported     1.000000\n",
       "Name: Transported, dtype: float64"
      ]
     },
     "execution_count": 9,
     "metadata": {},
     "output_type": "execute_result"
    }
   ],
   "source": [
    "df.corr()['Transported'].sort_values()"
   ]
  },
  {
   "cell_type": "code",
   "execution_count": 10,
   "id": "6f6008d7",
   "metadata": {},
   "outputs": [],
   "source": [
    "profile = ProfileReport(df,title=\"Report\",explorative=True)"
   ]
  },
  {
   "cell_type": "code",
   "execution_count": null,
   "id": "42483277",
   "metadata": {},
   "outputs": [],
   "source": [
    "profile.to_widgets()"
   ]
  },
  {
   "cell_type": "code",
   "execution_count": null,
   "id": "e209d431",
   "metadata": {},
   "outputs": [],
   "source": [
    "profile.to_file(\"Analysis Report.html\")"
   ]
  },
  {
   "cell_type": "markdown",
   "id": "1415f892",
   "metadata": {},
   "source": [
    "## Filling in Missing Data"
   ]
  },
  {
   "cell_type": "code",
   "execution_count": 11,
   "id": "32b8570d",
   "metadata": {},
   "outputs": [],
   "source": [
    "# Room Service\n",
    "df['RoomService'].fillna(df['RoomService'].mean(),inplace=True)\n",
    "# FoodCourt\n",
    "df['FoodCourt'].fillna(df['FoodCourt'].mean(),inplace=True)\n",
    "# ShoppingMall\n",
    "df['ShoppingMall'].fillna(df['ShoppingMall'].mean(),inplace=True)\n",
    "# mean - Spa            \n",
    "df['Spa'].fillna(df['Spa'].mean(),inplace=True)\n",
    "# median -VRDeck \n",
    "df['VRDeck'].fillna(df['VRDeck'].mean(),inplace=True)\n"
   ]
  },
  {
   "cell_type": "code",
   "execution_count": 12,
   "id": "cd86336d",
   "metadata": {},
   "outputs": [
    {
     "data": {
      "text/plain": [
       "PassengerId       0\n",
       "HomePlanet      201\n",
       "CryoSleep       217\n",
       "Cabin           199\n",
       "Destination     182\n",
       "Age             179\n",
       "VIP             203\n",
       "RoomService       0\n",
       "FoodCourt         0\n",
       "ShoppingMall      0\n",
       "Spa               0\n",
       "VRDeck            0\n",
       "Name            200\n",
       "Transported       0\n",
       "dtype: int64"
      ]
     },
     "execution_count": 12,
     "metadata": {},
     "output_type": "execute_result"
    }
   ],
   "source": [
    "df.isnull().sum()"
   ]
  },
  {
   "cell_type": "code",
   "execution_count": 13,
   "id": "6b553fc8",
   "metadata": {},
   "outputs": [],
   "source": [
    "# Dropping the Name\n",
    "df.drop(\"Name\",axis=1,inplace=True)"
   ]
  },
  {
   "cell_type": "code",
   "execution_count": 14,
   "id": "f32621af",
   "metadata": {},
   "outputs": [
    {
     "name": "stdout",
     "output_type": "stream",
     "text": [
      "['Earth' 'Europa' 'Mars']\n"
     ]
    }
   ],
   "source": [
    "print(df['HomePlanet'].dropna().sort_values().unique())"
   ]
  },
  {
   "cell_type": "code",
   "execution_count": 15,
   "id": "5729a250",
   "metadata": {},
   "outputs": [
    {
     "data": {
      "text/plain": [
       "Earth     4602\n",
       "Europa    2131\n",
       "Mars      1759\n",
       "Name: HomePlanet, dtype: int64"
      ]
     },
     "execution_count": 15,
     "metadata": {},
     "output_type": "execute_result"
    }
   ],
   "source": [
    "df[\"HomePlanet\"].value_counts()"
   ]
  },
  {
   "cell_type": "code",
   "execution_count": 16,
   "id": "705f32b5",
   "metadata": {},
   "outputs": [],
   "source": [
    "df[\"HomePlanet\"].fillna(\"Earth\",inplace=True)"
   ]
  },
  {
   "cell_type": "code",
   "execution_count": 17,
   "id": "f505eda4",
   "metadata": {},
   "outputs": [
    {
     "data": {
      "text/plain": [
       "False    8291\n",
       "True      199\n",
       "Name: VIP, dtype: int64"
      ]
     },
     "execution_count": 17,
     "metadata": {},
     "output_type": "execute_result"
    }
   ],
   "source": [
    "df[\"VIP\"].value_counts()"
   ]
  },
  {
   "cell_type": "code",
   "execution_count": 18,
   "id": "f369c1d6",
   "metadata": {},
   "outputs": [],
   "source": [
    "df[\"VIP\"].fillna(False,inplace=True)"
   ]
  },
  {
   "cell_type": "code",
   "execution_count": 19,
   "id": "d0f17e38",
   "metadata": {},
   "outputs": [],
   "source": [
    "df['Age'].fillna(df['Age'].median(),inplace=True)"
   ]
  },
  {
   "cell_type": "code",
   "execution_count": 20,
   "id": "9bbf6553",
   "metadata": {},
   "outputs": [
    {
     "data": {
      "text/plain": [
       "TRAPPIST-1e      5915\n",
       "55 Cancri e      1800\n",
       "PSO J318.5-22     796\n",
       "Name: Destination, dtype: int64"
      ]
     },
     "execution_count": 20,
     "metadata": {},
     "output_type": "execute_result"
    }
   ],
   "source": [
    "df['Destination'].value_counts()"
   ]
  },
  {
   "cell_type": "code",
   "execution_count": 21,
   "id": "0d3c3758",
   "metadata": {},
   "outputs": [],
   "source": [
    "df['Destination'].fillna(\"TRAPPIST-1e\",inplace=True)"
   ]
  },
  {
   "cell_type": "code",
   "execution_count": 22,
   "id": "179a2cdd",
   "metadata": {},
   "outputs": [
    {
     "data": {
      "text/plain": [
       "False"
      ]
     },
     "execution_count": 22,
     "metadata": {},
     "output_type": "execute_result"
    }
   ],
   "source": [
    "df[\"CryoSleep\"].value_counts().idxmax()"
   ]
  },
  {
   "cell_type": "code",
   "execution_count": 23,
   "id": "a8f95fb0",
   "metadata": {},
   "outputs": [],
   "source": [
    "df['CryoSleep'].fillna(df[\"CryoSleep\"].value_counts().idxmax(),inplace=True)"
   ]
  },
  {
   "cell_type": "code",
   "execution_count": 24,
   "id": "470d0fa1",
   "metadata": {},
   "outputs": [
    {
     "data": {
      "text/plain": [
       "F/1433/P    1\n",
       "G/71/P      1\n",
       "G/64/S      1\n",
       "E/26/S      1\n",
       "F/83/S      1\n",
       "           ..\n",
       "C/21/P      7\n",
       "F/1411/P    7\n",
       "B/11/S      7\n",
       "F/1194/P    7\n",
       "G/734/S     8\n",
       "Name: Cabin, Length: 6560, dtype: int64"
      ]
     },
     "execution_count": 24,
     "metadata": {},
     "output_type": "execute_result"
    }
   ],
   "source": [
    "df[\"Cabin\"].value_counts().sort_values()"
   ]
  },
  {
   "cell_type": "code",
   "execution_count": 25,
   "id": "157950e0",
   "metadata": {},
   "outputs": [],
   "source": [
    "df=df.dropna()"
   ]
  },
  {
   "cell_type": "code",
   "execution_count": 26,
   "id": "1ac538a5",
   "metadata": {},
   "outputs": [
    {
     "data": {
      "text/plain": [
       "PassengerId     0\n",
       "HomePlanet      0\n",
       "CryoSleep       0\n",
       "Cabin           0\n",
       "Destination     0\n",
       "Age             0\n",
       "VIP             0\n",
       "RoomService     0\n",
       "FoodCourt       0\n",
       "ShoppingMall    0\n",
       "Spa             0\n",
       "VRDeck          0\n",
       "Transported     0\n",
       "dtype: int64"
      ]
     },
     "execution_count": 26,
     "metadata": {},
     "output_type": "execute_result"
    }
   ],
   "source": [
    "df.isnull().sum()"
   ]
  },
  {
   "cell_type": "code",
   "execution_count": 27,
   "id": "1a183383",
   "metadata": {},
   "outputs": [
    {
     "name": "stdout",
     "output_type": "stream",
     "text": [
      "<class 'pandas.core.frame.DataFrame'>\n",
      "Int64Index: 8494 entries, 0 to 8692\n",
      "Data columns (total 13 columns):\n",
      " #   Column        Non-Null Count  Dtype  \n",
      "---  ------        --------------  -----  \n",
      " 0   PassengerId   8494 non-null   object \n",
      " 1   HomePlanet    8494 non-null   object \n",
      " 2   CryoSleep     8494 non-null   bool   \n",
      " 3   Cabin         8494 non-null   object \n",
      " 4   Destination   8494 non-null   object \n",
      " 5   Age           8494 non-null   float64\n",
      " 6   VIP           8494 non-null   bool   \n",
      " 7   RoomService   8494 non-null   float64\n",
      " 8   FoodCourt     8494 non-null   float64\n",
      " 9   ShoppingMall  8494 non-null   float64\n",
      " 10  Spa           8494 non-null   float64\n",
      " 11  VRDeck        8494 non-null   float64\n",
      " 12  Transported   8494 non-null   bool   \n",
      "dtypes: bool(3), float64(6), object(4)\n",
      "memory usage: 754.8+ KB\n"
     ]
    }
   ],
   "source": [
    "df.info()"
   ]
  },
  {
   "cell_type": "code",
   "execution_count": 28,
   "id": "304ddaf2",
   "metadata": {},
   "outputs": [
    {
     "name": "stderr",
     "output_type": "stream",
     "text": [
      "C:\\Users\\Deeshu\\anaconda3\\lib\\site-packages\\pandas\\core\\generic.py:6619: SettingWithCopyWarning: \n",
      "A value is trying to be set on a copy of a slice from a DataFrame\n",
      "\n",
      "See the caveats in the documentation: https://pandas.pydata.org/pandas-docs/stable/user_guide/indexing.html#returning-a-view-versus-a-copy\n",
      "  return self._update_inplace(result)\n"
     ]
    }
   ],
   "source": [
    "# Mapping 0 n 1\n",
    "df['CryoSleep'].replace({True:1,False:0},inplace=True)\n",
    "# pd get dummies for - HomePlanet, Destination"
   ]
  },
  {
   "cell_type": "code",
   "execution_count": 29,
   "id": "abe20c87",
   "metadata": {},
   "outputs": [],
   "source": [
    "df['Transported'].replace({True:1,False:0},inplace=True)"
   ]
  },
  {
   "cell_type": "code",
   "execution_count": 30,
   "id": "84ae381a",
   "metadata": {},
   "outputs": [],
   "source": [
    "df['VIP'].replace({True:1,False:0},inplace=True)"
   ]
  },
  {
   "cell_type": "code",
   "execution_count": 31,
   "id": "7d1045c0",
   "metadata": {},
   "outputs": [],
   "source": [
    "df2 = pd.get_dummies(df['HomePlanet'],drop_first=True)"
   ]
  },
  {
   "cell_type": "code",
   "execution_count": 32,
   "id": "605fd740",
   "metadata": {},
   "outputs": [
    {
     "name": "stderr",
     "output_type": "stream",
     "text": [
      "C:\\Users\\Deeshu\\anaconda3\\lib\\site-packages\\pandas\\core\\frame.py:4906: SettingWithCopyWarning: \n",
      "A value is trying to be set on a copy of a slice from a DataFrame\n",
      "\n",
      "See the caveats in the documentation: https://pandas.pydata.org/pandas-docs/stable/user_guide/indexing.html#returning-a-view-versus-a-copy\n",
      "  return super().drop(\n"
     ]
    }
   ],
   "source": [
    "df.drop(\"HomePlanet\",axis=1,inplace=True)"
   ]
  },
  {
   "cell_type": "code",
   "execution_count": 33,
   "id": "c31b4daf",
   "metadata": {},
   "outputs": [],
   "source": [
    "# concatenated = pandas.concat([df1, df2], axis=\"columns\")\n",
    "df = pd.concat([df, df2], axis=\"columns\")"
   ]
  },
  {
   "cell_type": "code",
   "execution_count": 34,
   "id": "6a57df8f",
   "metadata": {},
   "outputs": [],
   "source": [
    "df3 = pd.get_dummies(df['Destination'],drop_first=True)\n",
    "df.drop(\"Destination\",axis=1,inplace=True)\n",
    "# concatenated = pandas.concat([df1, df2], axis=\"columns\")\n",
    "df = pd.concat([df, df3], axis=\"columns\")"
   ]
  },
  {
   "cell_type": "code",
   "execution_count": 35,
   "id": "fa933c3d",
   "metadata": {},
   "outputs": [
    {
     "name": "stdout",
     "output_type": "stream",
     "text": [
      "<class 'pandas.core.frame.DataFrame'>\n",
      "Int64Index: 8494 entries, 0 to 8692\n",
      "Data columns (total 15 columns):\n",
      " #   Column         Non-Null Count  Dtype  \n",
      "---  ------         --------------  -----  \n",
      " 0   PassengerId    8494 non-null   object \n",
      " 1   CryoSleep      8494 non-null   int64  \n",
      " 2   Cabin          8494 non-null   object \n",
      " 3   Age            8494 non-null   float64\n",
      " 4   VIP            8494 non-null   int64  \n",
      " 5   RoomService    8494 non-null   float64\n",
      " 6   FoodCourt      8494 non-null   float64\n",
      " 7   ShoppingMall   8494 non-null   float64\n",
      " 8   Spa            8494 non-null   float64\n",
      " 9   VRDeck         8494 non-null   float64\n",
      " 10  Transported    8494 non-null   int64  \n",
      " 11  Europa         8494 non-null   uint8  \n",
      " 12  Mars           8494 non-null   uint8  \n",
      " 13  PSO J318.5-22  8494 non-null   uint8  \n",
      " 14  TRAPPIST-1e    8494 non-null   uint8  \n",
      "dtypes: float64(6), int64(3), object(2), uint8(4)\n",
      "memory usage: 829.5+ KB\n"
     ]
    }
   ],
   "source": [
    "df.info()"
   ]
  },
  {
   "cell_type": "markdown",
   "id": "c2bd8b98",
   "metadata": {},
   "source": [
    "## Feature Engineering"
   ]
  },
  {
   "cell_type": "code",
   "execution_count": 36,
   "id": "9bf1ca23",
   "metadata": {
    "scrolled": true
   },
   "outputs": [
    {
     "data": {
      "text/html": [
       "<div>\n",
       "<style scoped>\n",
       "    .dataframe tbody tr th:only-of-type {\n",
       "        vertical-align: middle;\n",
       "    }\n",
       "\n",
       "    .dataframe tbody tr th {\n",
       "        vertical-align: top;\n",
       "    }\n",
       "\n",
       "    .dataframe thead th {\n",
       "        text-align: right;\n",
       "    }\n",
       "</style>\n",
       "<table border=\"1\" class=\"dataframe\">\n",
       "  <thead>\n",
       "    <tr style=\"text-align: right;\">\n",
       "      <th></th>\n",
       "      <th>PassengerId</th>\n",
       "      <th>CryoSleep</th>\n",
       "      <th>Cabin</th>\n",
       "      <th>Age</th>\n",
       "      <th>VIP</th>\n",
       "      <th>RoomService</th>\n",
       "      <th>FoodCourt</th>\n",
       "      <th>ShoppingMall</th>\n",
       "      <th>Spa</th>\n",
       "      <th>VRDeck</th>\n",
       "      <th>Transported</th>\n",
       "      <th>Europa</th>\n",
       "      <th>Mars</th>\n",
       "      <th>PSO J318.5-22</th>\n",
       "      <th>TRAPPIST-1e</th>\n",
       "    </tr>\n",
       "  </thead>\n",
       "  <tbody>\n",
       "    <tr>\n",
       "      <th>0</th>\n",
       "      <td>0001_01</td>\n",
       "      <td>0</td>\n",
       "      <td>B/0/P</td>\n",
       "      <td>39.0</td>\n",
       "      <td>0</td>\n",
       "      <td>0.0</td>\n",
       "      <td>0.0</td>\n",
       "      <td>0.0</td>\n",
       "      <td>0.0</td>\n",
       "      <td>0.0</td>\n",
       "      <td>0</td>\n",
       "      <td>1</td>\n",
       "      <td>0</td>\n",
       "      <td>0</td>\n",
       "      <td>1</td>\n",
       "    </tr>\n",
       "    <tr>\n",
       "      <th>1</th>\n",
       "      <td>0002_01</td>\n",
       "      <td>0</td>\n",
       "      <td>F/0/S</td>\n",
       "      <td>24.0</td>\n",
       "      <td>0</td>\n",
       "      <td>109.0</td>\n",
       "      <td>9.0</td>\n",
       "      <td>25.0</td>\n",
       "      <td>549.0</td>\n",
       "      <td>44.0</td>\n",
       "      <td>1</td>\n",
       "      <td>0</td>\n",
       "      <td>0</td>\n",
       "      <td>0</td>\n",
       "      <td>1</td>\n",
       "    </tr>\n",
       "    <tr>\n",
       "      <th>2</th>\n",
       "      <td>0003_01</td>\n",
       "      <td>0</td>\n",
       "      <td>A/0/S</td>\n",
       "      <td>58.0</td>\n",
       "      <td>1</td>\n",
       "      <td>43.0</td>\n",
       "      <td>3576.0</td>\n",
       "      <td>0.0</td>\n",
       "      <td>6715.0</td>\n",
       "      <td>49.0</td>\n",
       "      <td>0</td>\n",
       "      <td>1</td>\n",
       "      <td>0</td>\n",
       "      <td>0</td>\n",
       "      <td>1</td>\n",
       "    </tr>\n",
       "    <tr>\n",
       "      <th>3</th>\n",
       "      <td>0003_02</td>\n",
       "      <td>0</td>\n",
       "      <td>A/0/S</td>\n",
       "      <td>33.0</td>\n",
       "      <td>0</td>\n",
       "      <td>0.0</td>\n",
       "      <td>1283.0</td>\n",
       "      <td>371.0</td>\n",
       "      <td>3329.0</td>\n",
       "      <td>193.0</td>\n",
       "      <td>0</td>\n",
       "      <td>1</td>\n",
       "      <td>0</td>\n",
       "      <td>0</td>\n",
       "      <td>1</td>\n",
       "    </tr>\n",
       "    <tr>\n",
       "      <th>4</th>\n",
       "      <td>0004_01</td>\n",
       "      <td>0</td>\n",
       "      <td>F/1/S</td>\n",
       "      <td>16.0</td>\n",
       "      <td>0</td>\n",
       "      <td>303.0</td>\n",
       "      <td>70.0</td>\n",
       "      <td>151.0</td>\n",
       "      <td>565.0</td>\n",
       "      <td>2.0</td>\n",
       "      <td>1</td>\n",
       "      <td>0</td>\n",
       "      <td>0</td>\n",
       "      <td>0</td>\n",
       "      <td>1</td>\n",
       "    </tr>\n",
       "  </tbody>\n",
       "</table>\n",
       "</div>"
      ],
      "text/plain": [
       "  PassengerId  CryoSleep  Cabin   Age  VIP  RoomService  FoodCourt  \\\n",
       "0     0001_01          0  B/0/P  39.0    0          0.0        0.0   \n",
       "1     0002_01          0  F/0/S  24.0    0        109.0        9.0   \n",
       "2     0003_01          0  A/0/S  58.0    1         43.0     3576.0   \n",
       "3     0003_02          0  A/0/S  33.0    0          0.0     1283.0   \n",
       "4     0004_01          0  F/1/S  16.0    0        303.0       70.0   \n",
       "\n",
       "   ShoppingMall     Spa  VRDeck  Transported  Europa  Mars  PSO J318.5-22  \\\n",
       "0           0.0     0.0     0.0            0       1     0              0   \n",
       "1          25.0   549.0    44.0            1       0     0              0   \n",
       "2           0.0  6715.0    49.0            0       1     0              0   \n",
       "3         371.0  3329.0   193.0            0       1     0              0   \n",
       "4         151.0   565.0     2.0            1       0     0              0   \n",
       "\n",
       "   TRAPPIST-1e  \n",
       "0            1  \n",
       "1            1  \n",
       "2            1  \n",
       "3            1  \n",
       "4            1  "
      ]
     },
     "execution_count": 36,
     "metadata": {},
     "output_type": "execute_result"
    }
   ],
   "source": [
    "# Cabin n Passenger - Group\n",
    "df.head()"
   ]
  },
  {
   "cell_type": "code",
   "execution_count": 37,
   "id": "8bbf2ec5",
   "metadata": {},
   "outputs": [
    {
     "data": {
      "text/plain": [
       "0          B/0/P\n",
       "1          F/0/S\n",
       "2          A/0/S\n",
       "3          A/0/S\n",
       "4          F/1/S\n",
       "          ...   \n",
       "8688      A/98/P\n",
       "8689    G/1499/S\n",
       "8690    G/1500/S\n",
       "8691     E/608/S\n",
       "8692     E/608/S\n",
       "Name: Cabin, Length: 8494, dtype: object"
      ]
     },
     "execution_count": 37,
     "metadata": {},
     "output_type": "execute_result"
    }
   ],
   "source": [
    "df[\"Cabin\"]"
   ]
  },
  {
   "cell_type": "code",
   "execution_count": 38,
   "id": "06cd251a",
   "metadata": {},
   "outputs": [
    {
     "data": {
      "text/plain": [
       "G/734/S     8\n",
       "G/109/P     7\n",
       "B/201/P     7\n",
       "G/1368/P    7\n",
       "G/981/S     7\n",
       "           ..\n",
       "G/556/P     1\n",
       "E/231/S     1\n",
       "G/545/S     1\n",
       "G/543/S     1\n",
       "F/947/P     1\n",
       "Name: Cabin, Length: 6560, dtype: int64"
      ]
     },
     "execution_count": 38,
     "metadata": {},
     "output_type": "execute_result"
    }
   ],
   "source": [
    "df[\"Cabin\"].value_counts()"
   ]
  },
  {
   "cell_type": "code",
   "execution_count": 39,
   "id": "e64b72b0",
   "metadata": {},
   "outputs": [],
   "source": [
    "df['deck'] = df['Cabin'].apply(lambda x: x.split(\"/\")[0])\n",
    "df['num'] = df['Cabin'].apply(lambda x: x.split(\"/\")[1])\n",
    "df['side'] = df['Cabin'].apply(lambda x: x.split(\"/\")[2])"
   ]
  },
  {
   "cell_type": "code",
   "execution_count": 40,
   "id": "8acd23d2",
   "metadata": {},
   "outputs": [
    {
     "data": {
      "text/html": [
       "<div>\n",
       "<style scoped>\n",
       "    .dataframe tbody tr th:only-of-type {\n",
       "        vertical-align: middle;\n",
       "    }\n",
       "\n",
       "    .dataframe tbody tr th {\n",
       "        vertical-align: top;\n",
       "    }\n",
       "\n",
       "    .dataframe thead th {\n",
       "        text-align: right;\n",
       "    }\n",
       "</style>\n",
       "<table border=\"1\" class=\"dataframe\">\n",
       "  <thead>\n",
       "    <tr style=\"text-align: right;\">\n",
       "      <th></th>\n",
       "      <th>PassengerId</th>\n",
       "      <th>CryoSleep</th>\n",
       "      <th>Cabin</th>\n",
       "      <th>Age</th>\n",
       "      <th>VIP</th>\n",
       "      <th>RoomService</th>\n",
       "      <th>FoodCourt</th>\n",
       "      <th>ShoppingMall</th>\n",
       "      <th>Spa</th>\n",
       "      <th>VRDeck</th>\n",
       "      <th>Transported</th>\n",
       "      <th>Europa</th>\n",
       "      <th>Mars</th>\n",
       "      <th>PSO J318.5-22</th>\n",
       "      <th>TRAPPIST-1e</th>\n",
       "      <th>deck</th>\n",
       "      <th>num</th>\n",
       "      <th>side</th>\n",
       "    </tr>\n",
       "  </thead>\n",
       "  <tbody>\n",
       "    <tr>\n",
       "      <th>0</th>\n",
       "      <td>0001_01</td>\n",
       "      <td>0</td>\n",
       "      <td>B/0/P</td>\n",
       "      <td>39.0</td>\n",
       "      <td>0</td>\n",
       "      <td>0.0</td>\n",
       "      <td>0.0</td>\n",
       "      <td>0.0</td>\n",
       "      <td>0.0</td>\n",
       "      <td>0.0</td>\n",
       "      <td>0</td>\n",
       "      <td>1</td>\n",
       "      <td>0</td>\n",
       "      <td>0</td>\n",
       "      <td>1</td>\n",
       "      <td>B</td>\n",
       "      <td>0</td>\n",
       "      <td>P</td>\n",
       "    </tr>\n",
       "    <tr>\n",
       "      <th>1</th>\n",
       "      <td>0002_01</td>\n",
       "      <td>0</td>\n",
       "      <td>F/0/S</td>\n",
       "      <td>24.0</td>\n",
       "      <td>0</td>\n",
       "      <td>109.0</td>\n",
       "      <td>9.0</td>\n",
       "      <td>25.0</td>\n",
       "      <td>549.0</td>\n",
       "      <td>44.0</td>\n",
       "      <td>1</td>\n",
       "      <td>0</td>\n",
       "      <td>0</td>\n",
       "      <td>0</td>\n",
       "      <td>1</td>\n",
       "      <td>F</td>\n",
       "      <td>0</td>\n",
       "      <td>S</td>\n",
       "    </tr>\n",
       "    <tr>\n",
       "      <th>2</th>\n",
       "      <td>0003_01</td>\n",
       "      <td>0</td>\n",
       "      <td>A/0/S</td>\n",
       "      <td>58.0</td>\n",
       "      <td>1</td>\n",
       "      <td>43.0</td>\n",
       "      <td>3576.0</td>\n",
       "      <td>0.0</td>\n",
       "      <td>6715.0</td>\n",
       "      <td>49.0</td>\n",
       "      <td>0</td>\n",
       "      <td>1</td>\n",
       "      <td>0</td>\n",
       "      <td>0</td>\n",
       "      <td>1</td>\n",
       "      <td>A</td>\n",
       "      <td>0</td>\n",
       "      <td>S</td>\n",
       "    </tr>\n",
       "    <tr>\n",
       "      <th>3</th>\n",
       "      <td>0003_02</td>\n",
       "      <td>0</td>\n",
       "      <td>A/0/S</td>\n",
       "      <td>33.0</td>\n",
       "      <td>0</td>\n",
       "      <td>0.0</td>\n",
       "      <td>1283.0</td>\n",
       "      <td>371.0</td>\n",
       "      <td>3329.0</td>\n",
       "      <td>193.0</td>\n",
       "      <td>0</td>\n",
       "      <td>1</td>\n",
       "      <td>0</td>\n",
       "      <td>0</td>\n",
       "      <td>1</td>\n",
       "      <td>A</td>\n",
       "      <td>0</td>\n",
       "      <td>S</td>\n",
       "    </tr>\n",
       "    <tr>\n",
       "      <th>4</th>\n",
       "      <td>0004_01</td>\n",
       "      <td>0</td>\n",
       "      <td>F/1/S</td>\n",
       "      <td>16.0</td>\n",
       "      <td>0</td>\n",
       "      <td>303.0</td>\n",
       "      <td>70.0</td>\n",
       "      <td>151.0</td>\n",
       "      <td>565.0</td>\n",
       "      <td>2.0</td>\n",
       "      <td>1</td>\n",
       "      <td>0</td>\n",
       "      <td>0</td>\n",
       "      <td>0</td>\n",
       "      <td>1</td>\n",
       "      <td>F</td>\n",
       "      <td>1</td>\n",
       "      <td>S</td>\n",
       "    </tr>\n",
       "  </tbody>\n",
       "</table>\n",
       "</div>"
      ],
      "text/plain": [
       "  PassengerId  CryoSleep  Cabin   Age  VIP  RoomService  FoodCourt  \\\n",
       "0     0001_01          0  B/0/P  39.0    0          0.0        0.0   \n",
       "1     0002_01          0  F/0/S  24.0    0        109.0        9.0   \n",
       "2     0003_01          0  A/0/S  58.0    1         43.0     3576.0   \n",
       "3     0003_02          0  A/0/S  33.0    0          0.0     1283.0   \n",
       "4     0004_01          0  F/1/S  16.0    0        303.0       70.0   \n",
       "\n",
       "   ShoppingMall     Spa  VRDeck  Transported  Europa  Mars  PSO J318.5-22  \\\n",
       "0           0.0     0.0     0.0            0       1     0              0   \n",
       "1          25.0   549.0    44.0            1       0     0              0   \n",
       "2           0.0  6715.0    49.0            0       1     0              0   \n",
       "3         371.0  3329.0   193.0            0       1     0              0   \n",
       "4         151.0   565.0     2.0            1       0     0              0   \n",
       "\n",
       "   TRAPPIST-1e deck num side  \n",
       "0            1    B   0    P  \n",
       "1            1    F   0    S  \n",
       "2            1    A   0    S  \n",
       "3            1    A   0    S  \n",
       "4            1    F   1    S  "
      ]
     },
     "execution_count": 40,
     "metadata": {},
     "output_type": "execute_result"
    }
   ],
   "source": [
    "df.head()"
   ]
  },
  {
   "cell_type": "code",
   "execution_count": 41,
   "id": "d40cbfc4",
   "metadata": {},
   "outputs": [],
   "source": [
    "df.drop(\"Cabin\",axis=1,inplace=True)"
   ]
  },
  {
   "cell_type": "code",
   "execution_count": 42,
   "id": "98abe9d2",
   "metadata": {},
   "outputs": [
    {
     "data": {
      "text/plain": [
       "F    2794\n",
       "G    2559\n",
       "E     876\n",
       "B     779\n",
       "C     747\n",
       "D     478\n",
       "A     256\n",
       "T       5\n",
       "Name: deck, dtype: int64"
      ]
     },
     "execution_count": 42,
     "metadata": {},
     "output_type": "execute_result"
    }
   ],
   "source": [
    "df['deck'].value_counts()"
   ]
  },
  {
   "cell_type": "code",
   "execution_count": 43,
   "id": "c8c673d1",
   "metadata": {},
   "outputs": [
    {
     "data": {
      "text/plain": [
       "82      28\n",
       "86      22\n",
       "19      22\n",
       "56      21\n",
       "176     21\n",
       "        ..\n",
       "1644     1\n",
       "1515     1\n",
       "1639     1\n",
       "1277     1\n",
       "1894     1\n",
       "Name: num, Length: 1817, dtype: int64"
      ]
     },
     "execution_count": 43,
     "metadata": {},
     "output_type": "execute_result"
    }
   ],
   "source": [
    "df['num'].value_counts()"
   ]
  },
  {
   "cell_type": "code",
   "execution_count": 44,
   "id": "61631346",
   "metadata": {},
   "outputs": [
    {
     "data": {
      "text/plain": [
       "S    4288\n",
       "P    4206\n",
       "Name: side, dtype: int64"
      ]
     },
     "execution_count": 44,
     "metadata": {},
     "output_type": "execute_result"
    }
   ],
   "source": [
    "df['side'].value_counts()"
   ]
  },
  {
   "cell_type": "code",
   "execution_count": 45,
   "id": "8e2c6cbc",
   "metadata": {
    "scrolled": true
   },
   "outputs": [],
   "source": [
    "df4 = pd.get_dummies(df['side'],drop_first=True)\n",
    "df.drop(\"side\",axis=1,inplace=True)\n",
    "# concatenated = pandas.concat([df1, df2], axis=\"columns\")\n",
    "df = pd.concat([df, df4], axis=\"columns\")"
   ]
  },
  {
   "cell_type": "code",
   "execution_count": 46,
   "id": "82021540",
   "metadata": {},
   "outputs": [],
   "source": [
    "deck = pd.get_dummies(df['deck'],drop_first=True)\n",
    "df.drop(\"deck\",axis=1,inplace=True)\n",
    "# concatenated = pandas.concat([df1, df2], axis=\"columns\")\n",
    "df = pd.concat([df, deck], axis=\"columns\")"
   ]
  },
  {
   "cell_type": "code",
   "execution_count": 47,
   "id": "7ee4e4d5",
   "metadata": {},
   "outputs": [],
   "source": [
    "df['gggg'] = df[\"PassengerId\"].apply(lambda x: int(x.split(\"_\")[0]))\n",
    "df['pp'] = df[\"PassengerId\"].apply(lambda x: int(x.split(\"_\")[1]))"
   ]
  },
  {
   "cell_type": "code",
   "execution_count": 48,
   "id": "c3833a3d",
   "metadata": {},
   "outputs": [
    {
     "data": {
      "text/plain": [
       "5133    8\n",
       "4498    8\n",
       "8168    8\n",
       "8956    8\n",
       "984     8\n",
       "       ..\n",
       "3487    1\n",
       "3486    1\n",
       "3483    1\n",
       "3480    1\n",
       "4638    1\n",
       "Name: gggg, Length: 6118, dtype: int64"
      ]
     },
     "execution_count": 48,
     "metadata": {},
     "output_type": "execute_result"
    }
   ],
   "source": [
    "df['gggg'].value_counts()"
   ]
  },
  {
   "cell_type": "code",
   "execution_count": 49,
   "id": "bc392ada",
   "metadata": {},
   "outputs": [
    {
     "data": {
      "text/plain": [
       "1    6083\n",
       "2    1377\n",
       "3     551\n",
       "4     225\n",
       "5     127\n",
       "6      75\n",
       "7      43\n",
       "8      13\n",
       "Name: pp, dtype: int64"
      ]
     },
     "execution_count": 49,
     "metadata": {},
     "output_type": "execute_result"
    }
   ],
   "source": [
    "df['pp'].value_counts()"
   ]
  },
  {
   "cell_type": "code",
   "execution_count": 51,
   "id": "767c77a0",
   "metadata": {},
   "outputs": [
    {
     "data": {
      "text/plain": [
       "RoomService     -0.246156\n",
       "Spa             -0.217905\n",
       "VRDeck          -0.205386\n",
       "E               -0.099254\n",
       "TRAPPIST-1e     -0.097219\n",
       "F               -0.089308\n",
       "Age             -0.076427\n",
       "VIP             -0.035086\n",
       "D               -0.034479\n",
       "T               -0.014739\n",
       "PSO J318.5-22    0.003396\n",
       "ShoppingMall     0.011715\n",
       "G                0.016505\n",
       "Mars             0.020332\n",
       "gggg             0.022568\n",
       "FoodCourt        0.048048\n",
       "pp               0.065912\n",
       "S                0.103775\n",
       "C                0.109558\n",
       "B                0.146571\n",
       "Europa           0.176303\n",
       "CryoSleep        0.459200\n",
       "Transported      1.000000\n",
       "Name: Transported, dtype: float64"
      ]
     },
     "execution_count": 51,
     "metadata": {},
     "output_type": "execute_result"
    }
   ],
   "source": [
    "df.corr()['Transported'].sort_values()"
   ]
  },
  {
   "cell_type": "code",
   "execution_count": 52,
   "id": "62bceefe",
   "metadata": {},
   "outputs": [
    {
     "name": "stdout",
     "output_type": "stream",
     "text": [
      "<class 'pandas.core.frame.DataFrame'>\n",
      "Int64Index: 8494 entries, 0 to 8692\n",
      "Data columns (total 24 columns):\n",
      " #   Column         Non-Null Count  Dtype  \n",
      "---  ------         --------------  -----  \n",
      " 0   CryoSleep      8494 non-null   int64  \n",
      " 1   Age            8494 non-null   float64\n",
      " 2   VIP            8494 non-null   int64  \n",
      " 3   RoomService    8494 non-null   float64\n",
      " 4   FoodCourt      8494 non-null   float64\n",
      " 5   ShoppingMall   8494 non-null   float64\n",
      " 6   Spa            8494 non-null   float64\n",
      " 7   VRDeck         8494 non-null   float64\n",
      " 8   Transported    8494 non-null   int64  \n",
      " 9   Europa         8494 non-null   uint8  \n",
      " 10  Mars           8494 non-null   uint8  \n",
      " 11  PSO J318.5-22  8494 non-null   uint8  \n",
      " 12  TRAPPIST-1e    8494 non-null   uint8  \n",
      " 13  num            8494 non-null   object \n",
      " 14  S              8494 non-null   uint8  \n",
      " 15  B              8494 non-null   uint8  \n",
      " 16  C              8494 non-null   uint8  \n",
      " 17  D              8494 non-null   uint8  \n",
      " 18  E              8494 non-null   uint8  \n",
      " 19  F              8494 non-null   uint8  \n",
      " 20  G              8494 non-null   uint8  \n",
      " 21  T              8494 non-null   uint8  \n",
      " 22  gggg           8494 non-null   int64  \n",
      " 23  pp             8494 non-null   int64  \n",
      "dtypes: float64(6), int64(5), object(1), uint8(12)\n",
      "memory usage: 962.2+ KB\n"
     ]
    }
   ],
   "source": [
    "df.info()"
   ]
  },
  {
   "cell_type": "markdown",
   "id": "c1b28ff7",
   "metadata": {},
   "source": [
    "## Normalizing the Data"
   ]
  },
  {
   "cell_type": "code",
   "execution_count": 53,
   "id": "30ab67cf",
   "metadata": {},
   "outputs": [],
   "source": [
    "from sklearn.preprocessing import MinMaxScaler"
   ]
  },
  {
   "cell_type": "code",
   "execution_count": 54,
   "id": "4e483460",
   "metadata": {},
   "outputs": [],
   "source": [
    "scaler = MinMaxScaler()"
   ]
  },
  {
   "cell_type": "code",
   "execution_count": 55,
   "id": "8b4b2532",
   "metadata": {},
   "outputs": [],
   "source": [
    "scaled_feat = scaler.fit_transform(df.drop([\"PassengerId\",\"Transported\"],axis=1))"
   ]
  },
  {
   "cell_type": "markdown",
   "id": "26f72dd9",
   "metadata": {},
   "source": [
    "## Splitting the Dataset"
   ]
  },
  {
   "cell_type": "code",
   "execution_count": 57,
   "id": "6216053d",
   "metadata": {},
   "outputs": [],
   "source": [
    "x_test="
   ]
  },
  {
   "cell_type": "markdown",
   "id": "37abfa4d",
   "metadata": {},
   "source": [
    "## Model Creation"
   ]
  },
  {
   "cell_type": "code",
   "execution_count": 58,
   "id": "33e22bfd",
   "metadata": {},
   "outputs": [],
   "source": [
    "from sklearn.ensemble import RandomForestClassifier\n",
    "from sklearn.linear_model import LogisticRegression\n",
    "from sklearn.svm import SVC\n",
    "from sklearn.neighbors import KNeighborsClassifier"
   ]
  },
  {
   "cell_type": "code",
   "execution_count": 59,
   "id": "df1f8061",
   "metadata": {},
   "outputs": [],
   "source": [
    "lr = LogisticRegression()\n",
    "svm = SVC()\n",
    "rfc = RandomForestClassifier(n_estimators=55)"
   ]
  },
  {
   "cell_type": "code",
   "execution_count": 75,
   "id": "dd575e46",
   "metadata": {},
   "outputs": [
    {
     "data": {
      "text/html": [
       "<style>#sk-container-id-2 {color: black;background-color: white;}#sk-container-id-2 pre{padding: 0;}#sk-container-id-2 div.sk-toggleable {background-color: white;}#sk-container-id-2 label.sk-toggleable__label {cursor: pointer;display: block;width: 100%;margin-bottom: 0;padding: 0.3em;box-sizing: border-box;text-align: center;}#sk-container-id-2 label.sk-toggleable__label-arrow:before {content: \"▸\";float: left;margin-right: 0.25em;color: #696969;}#sk-container-id-2 label.sk-toggleable__label-arrow:hover:before {color: black;}#sk-container-id-2 div.sk-estimator:hover label.sk-toggleable__label-arrow:before {color: black;}#sk-container-id-2 div.sk-toggleable__content {max-height: 0;max-width: 0;overflow: hidden;text-align: left;background-color: #f0f8ff;}#sk-container-id-2 div.sk-toggleable__content pre {margin: 0.2em;color: black;border-radius: 0.25em;background-color: #f0f8ff;}#sk-container-id-2 input.sk-toggleable__control:checked~div.sk-toggleable__content {max-height: 200px;max-width: 100%;overflow: auto;}#sk-container-id-2 input.sk-toggleable__control:checked~label.sk-toggleable__label-arrow:before {content: \"▾\";}#sk-container-id-2 div.sk-estimator input.sk-toggleable__control:checked~label.sk-toggleable__label {background-color: #d4ebff;}#sk-container-id-2 div.sk-label input.sk-toggleable__control:checked~label.sk-toggleable__label {background-color: #d4ebff;}#sk-container-id-2 input.sk-hidden--visually {border: 0;clip: rect(1px 1px 1px 1px);clip: rect(1px, 1px, 1px, 1px);height: 1px;margin: -1px;overflow: hidden;padding: 0;position: absolute;width: 1px;}#sk-container-id-2 div.sk-estimator {font-family: monospace;background-color: #f0f8ff;border: 1px dotted black;border-radius: 0.25em;box-sizing: border-box;margin-bottom: 0.5em;}#sk-container-id-2 div.sk-estimator:hover {background-color: #d4ebff;}#sk-container-id-2 div.sk-parallel-item::after {content: \"\";width: 100%;border-bottom: 1px solid gray;flex-grow: 1;}#sk-container-id-2 div.sk-label:hover label.sk-toggleable__label {background-color: #d4ebff;}#sk-container-id-2 div.sk-serial::before {content: \"\";position: absolute;border-left: 1px solid gray;box-sizing: border-box;top: 0;bottom: 0;left: 50%;z-index: 0;}#sk-container-id-2 div.sk-serial {display: flex;flex-direction: column;align-items: center;background-color: white;padding-right: 0.2em;padding-left: 0.2em;position: relative;}#sk-container-id-2 div.sk-item {position: relative;z-index: 1;}#sk-container-id-2 div.sk-parallel {display: flex;align-items: stretch;justify-content: center;background-color: white;position: relative;}#sk-container-id-2 div.sk-item::before, #sk-container-id-2 div.sk-parallel-item::before {content: \"\";position: absolute;border-left: 1px solid gray;box-sizing: border-box;top: 0;bottom: 0;left: 50%;z-index: -1;}#sk-container-id-2 div.sk-parallel-item {display: flex;flex-direction: column;z-index: 1;position: relative;background-color: white;}#sk-container-id-2 div.sk-parallel-item:first-child::after {align-self: flex-end;width: 50%;}#sk-container-id-2 div.sk-parallel-item:last-child::after {align-self: flex-start;width: 50%;}#sk-container-id-2 div.sk-parallel-item:only-child::after {width: 0;}#sk-container-id-2 div.sk-dashed-wrapped {border: 1px dashed gray;margin: 0 0.4em 0.5em 0.4em;box-sizing: border-box;padding-bottom: 0.4em;background-color: white;}#sk-container-id-2 div.sk-label label {font-family: monospace;font-weight: bold;display: inline-block;line-height: 1.2em;}#sk-container-id-2 div.sk-label-container {text-align: center;}#sk-container-id-2 div.sk-container {/* jupyter's `normalize.less` sets `[hidden] { display: none; }` but bootstrap.min.css set `[hidden] { display: none !important; }` so we also need the `!important` here to be able to override the default hidden behavior on the sphinx rendered scikit-learn.org. See: https://github.com/scikit-learn/scikit-learn/issues/21755 */display: inline-block !important;position: relative;}#sk-container-id-2 div.sk-text-repr-fallback {display: none;}</style><div id=\"sk-container-id-2\" class=\"sk-top-container\"><div class=\"sk-text-repr-fallback\"><pre>KNeighborsClassifier(n_neighbors=10)</pre><b>In a Jupyter environment, please rerun this cell to show the HTML representation or trust the notebook. <br />On GitHub, the HTML representation is unable to render, please try loading this page with nbviewer.org.</b></div><div class=\"sk-container\" hidden><div class=\"sk-item\"><div class=\"sk-estimator sk-toggleable\"><input class=\"sk-toggleable__control sk-hidden--visually\" id=\"sk-estimator-id-2\" type=\"checkbox\" checked><label for=\"sk-estimator-id-2\" class=\"sk-toggleable__label sk-toggleable__label-arrow\">KNeighborsClassifier</label><div class=\"sk-toggleable__content\"><pre>KNeighborsClassifier(n_neighbors=10)</pre></div></div></div></div></div>"
      ],
      "text/plain": [
       "KNeighborsClassifier(n_neighbors=10)"
      ]
     },
     "execution_count": 75,
     "metadata": {},
     "output_type": "execute_result"
    }
   ],
   "source": [
    "knn = KNeighborsClassifier(n_neighbors=10)\n",
    "knn.fit(x_train,y_train)"
   ]
  },
  {
   "cell_type": "code",
   "execution_count": 60,
   "id": "dcaae66c",
   "metadata": {},
   "outputs": [
    {
     "data": {
      "text/html": [
       "<style>#sk-container-id-1 {color: black;background-color: white;}#sk-container-id-1 pre{padding: 0;}#sk-container-id-1 div.sk-toggleable {background-color: white;}#sk-container-id-1 label.sk-toggleable__label {cursor: pointer;display: block;width: 100%;margin-bottom: 0;padding: 0.3em;box-sizing: border-box;text-align: center;}#sk-container-id-1 label.sk-toggleable__label-arrow:before {content: \"▸\";float: left;margin-right: 0.25em;color: #696969;}#sk-container-id-1 label.sk-toggleable__label-arrow:hover:before {color: black;}#sk-container-id-1 div.sk-estimator:hover label.sk-toggleable__label-arrow:before {color: black;}#sk-container-id-1 div.sk-toggleable__content {max-height: 0;max-width: 0;overflow: hidden;text-align: left;background-color: #f0f8ff;}#sk-container-id-1 div.sk-toggleable__content pre {margin: 0.2em;color: black;border-radius: 0.25em;background-color: #f0f8ff;}#sk-container-id-1 input.sk-toggleable__control:checked~div.sk-toggleable__content {max-height: 200px;max-width: 100%;overflow: auto;}#sk-container-id-1 input.sk-toggleable__control:checked~label.sk-toggleable__label-arrow:before {content: \"▾\";}#sk-container-id-1 div.sk-estimator input.sk-toggleable__control:checked~label.sk-toggleable__label {background-color: #d4ebff;}#sk-container-id-1 div.sk-label input.sk-toggleable__control:checked~label.sk-toggleable__label {background-color: #d4ebff;}#sk-container-id-1 input.sk-hidden--visually {border: 0;clip: rect(1px 1px 1px 1px);clip: rect(1px, 1px, 1px, 1px);height: 1px;margin: -1px;overflow: hidden;padding: 0;position: absolute;width: 1px;}#sk-container-id-1 div.sk-estimator {font-family: monospace;background-color: #f0f8ff;border: 1px dotted black;border-radius: 0.25em;box-sizing: border-box;margin-bottom: 0.5em;}#sk-container-id-1 div.sk-estimator:hover {background-color: #d4ebff;}#sk-container-id-1 div.sk-parallel-item::after {content: \"\";width: 100%;border-bottom: 1px solid gray;flex-grow: 1;}#sk-container-id-1 div.sk-label:hover label.sk-toggleable__label {background-color: #d4ebff;}#sk-container-id-1 div.sk-serial::before {content: \"\";position: absolute;border-left: 1px solid gray;box-sizing: border-box;top: 0;bottom: 0;left: 50%;z-index: 0;}#sk-container-id-1 div.sk-serial {display: flex;flex-direction: column;align-items: center;background-color: white;padding-right: 0.2em;padding-left: 0.2em;position: relative;}#sk-container-id-1 div.sk-item {position: relative;z-index: 1;}#sk-container-id-1 div.sk-parallel {display: flex;align-items: stretch;justify-content: center;background-color: white;position: relative;}#sk-container-id-1 div.sk-item::before, #sk-container-id-1 div.sk-parallel-item::before {content: \"\";position: absolute;border-left: 1px solid gray;box-sizing: border-box;top: 0;bottom: 0;left: 50%;z-index: -1;}#sk-container-id-1 div.sk-parallel-item {display: flex;flex-direction: column;z-index: 1;position: relative;background-color: white;}#sk-container-id-1 div.sk-parallel-item:first-child::after {align-self: flex-end;width: 50%;}#sk-container-id-1 div.sk-parallel-item:last-child::after {align-self: flex-start;width: 50%;}#sk-container-id-1 div.sk-parallel-item:only-child::after {width: 0;}#sk-container-id-1 div.sk-dashed-wrapped {border: 1px dashed gray;margin: 0 0.4em 0.5em 0.4em;box-sizing: border-box;padding-bottom: 0.4em;background-color: white;}#sk-container-id-1 div.sk-label label {font-family: monospace;font-weight: bold;display: inline-block;line-height: 1.2em;}#sk-container-id-1 div.sk-label-container {text-align: center;}#sk-container-id-1 div.sk-container {/* jupyter's `normalize.less` sets `[hidden] { display: none; }` but bootstrap.min.css set `[hidden] { display: none !important; }` so we also need the `!important` here to be able to override the default hidden behavior on the sphinx rendered scikit-learn.org. See: https://github.com/scikit-learn/scikit-learn/issues/21755 */display: inline-block !important;position: relative;}#sk-container-id-1 div.sk-text-repr-fallback {display: none;}</style><div id=\"sk-container-id-1\" class=\"sk-top-container\"><div class=\"sk-text-repr-fallback\"><pre>KNeighborsClassifier(n_neighbors=30)</pre><b>In a Jupyter environment, please rerun this cell to show the HTML representation or trust the notebook. <br />On GitHub, the HTML representation is unable to render, please try loading this page with nbviewer.org.</b></div><div class=\"sk-container\" hidden><div class=\"sk-item\"><div class=\"sk-estimator sk-toggleable\"><input class=\"sk-toggleable__control sk-hidden--visually\" id=\"sk-estimator-id-1\" type=\"checkbox\" checked><label for=\"sk-estimator-id-1\" class=\"sk-toggleable__label sk-toggleable__label-arrow\">KNeighborsClassifier</label><div class=\"sk-toggleable__content\"><pre>KNeighborsClassifier(n_neighbors=30)</pre></div></div></div></div></div>"
      ],
      "text/plain": [
       "KNeighborsClassifier(n_neighbors=30)"
      ]
     },
     "execution_count": 60,
     "metadata": {},
     "output_type": "execute_result"
    }
   ],
   "source": [
    "rfc.fit(x_train,y_train)\n",
    "lr.fit(x_train,y_train)\n",
    "svm.fit(x_train,y_train)"
   ]
  },
  {
   "cell_type": "code",
   "execution_count": 77,
   "id": "69e6fd22",
   "metadata": {},
   "outputs": [
    {
     "name": "stdout",
     "output_type": "stream",
     "text": [
      "0.7557061340941512\n"
     ]
    }
   ],
   "source": [
    "print(accuracy_score(y_test,knn_pred))"
   ]
  },
  {
   "cell_type": "code",
   "execution_count": 74,
   "id": "5d39fa7a",
   "metadata": {},
   "outputs": [
    {
     "data": {
      "text/plain": [
       "Text(0, 0.5, 'Error Rate')"
      ]
     },
     "execution_count": 74,
     "metadata": {},
     "output_type": "execute_result"
    },
    {
     "data": {
      "image/png": "[encoded data removed]",
      "text/plain": [
       "<Figure size 720x432 with 1 Axes>"
      ]
     },
     "metadata": {
      "needs_background": "light"
     },
     "output_type": "display_data"
    }
   ],
   "source": [
    "# TO FIND THE BEST VALUE OF K\n",
    "error_rate = []\n",
    "\n",
    "# Will take some time\n",
    "for i in range(1,40):\n",
    "    \n",
    "    knn = KNeighborsClassifier(n_neighbors=i)\n",
    "    knn.fit(x_train,y_train)\n",
    "    pred_i = knn.predict(x_test)\n",
    "    error_rate.append(np.mean(pred_i != y_test))\n",
    "    \n",
    "plt.figure(figsize=(10,6))\n",
    "plt.plot(range(1,40),error_rate,color='blue', linestyle='dashed', marker='o',\n",
    "         markerfacecolor='red', markersize=10)\n",
    "plt.title('Error Rate vs. K Value')\n",
    "plt.xlabel('K')\n",
    "plt.ylabel('Error Rate')"
   ]
  },
  {
   "cell_type": "code",
   "execution_count": 78,
   "id": "5f6c61b8",
   "metadata": {},
   "outputs": [],
   "source": [
    "from sklearn.model_selection import GridSearchCV\n",
    "param_grid = {'C': [0.1,1, 10, 100, 1000], 'gamma': [1,0.1,0.01,0.001,0.0001], 'kernel': ['rbf']} \n",
    "grid = GridSearchCV(SVC(),param_grid,refit=True,verbose=3)"
   ]
  },
  {
   "cell_type": "code",
   "execution_count": 79,
   "id": "f70908d7",
   "metadata": {
    "scrolled": true
   },
   "outputs": [
    {
     "name": "stdout",
     "output_type": "stream",
     "text": [
      "Fitting 5 folds for each of 25 candidates, totalling 125 fits\n",
      "[CV 1/5] END ........C=0.1, gamma=1, kernel=rbf;, score=0.705 total time=   0.6s\n",
      "[CV 2/5] END ........C=0.1, gamma=1, kernel=rbf;, score=0.728 total time=   0.5s\n",
      "[CV 3/5] END ........C=0.1, gamma=1, kernel=rbf;, score=0.720 total time=   0.7s\n",
      "[CV 4/5] END ........C=0.1, gamma=1, kernel=rbf;, score=0.734 total time=   0.6s\n",
      "[CV 5/5] END ........C=0.1, gamma=1, kernel=rbf;, score=0.735 total time=   0.5s\n",
      "[CV 1/5] END ......C=0.1, gamma=0.1, kernel=rbf;, score=0.699 total time=   0.6s\n",
      "[CV 2/5] END ......C=0.1, gamma=0.1, kernel=rbf;, score=0.714 total time=   0.5s\n",
      "[CV 3/5] END ......C=0.1, gamma=0.1, kernel=rbf;, score=0.707 total time=   0.5s\n",
      "[CV 4/5] END ......C=0.1, gamma=0.1, kernel=rbf;, score=0.712 total time=   0.5s\n",
      "[CV 5/5] END ......C=0.1, gamma=0.1, kernel=rbf;, score=0.707 total time=   0.5s\n",
      "[CV 1/5] END .....C=0.1, gamma=0.01, kernel=rbf;, score=0.699 total time=   0.7s\n",
      "[CV 2/5] END .....C=0.1, gamma=0.01, kernel=rbf;, score=0.714 total time=   0.7s\n",
      "[CV 3/5] END .....C=0.1, gamma=0.01, kernel=rbf;, score=0.707 total time=   0.7s\n",
      "[CV 4/5] END .....C=0.1, gamma=0.01, kernel=rbf;, score=0.712 total time=   0.6s\n",
      "[CV 5/5] END .....C=0.1, gamma=0.01, kernel=rbf;, score=0.707 total time=   0.7s\n",
      "[CV 1/5] END ....C=0.1, gamma=0.001, kernel=rbf;, score=0.511 total time=   0.8s\n",
      "[CV 2/5] END ....C=0.1, gamma=0.001, kernel=rbf;, score=0.511 total time=   0.7s\n",
      "[CV 3/5] END ....C=0.1, gamma=0.001, kernel=rbf;, score=0.511 total time=   0.8s\n",
      "[CV 4/5] END ....C=0.1, gamma=0.001, kernel=rbf;, score=0.511 total time=   0.7s\n",
      "[CV 5/5] END ....C=0.1, gamma=0.001, kernel=rbf;, score=0.511 total time=   0.9s\n",
      "[CV 1/5] END ...C=0.1, gamma=0.0001, kernel=rbf;, score=0.511 total time=   0.8s\n",
      "[CV 2/5] END ...C=0.1, gamma=0.0001, kernel=rbf;, score=0.511 total time=   1.0s\n",
      "[CV 3/5] END ...C=0.1, gamma=0.0001, kernel=rbf;, score=0.511 total time=   0.8s\n",
      "[CV 4/5] END ...C=0.1, gamma=0.0001, kernel=rbf;, score=0.511 total time=   0.7s\n",
      "[CV 5/5] END ...C=0.1, gamma=0.0001, kernel=rbf;, score=0.511 total time=   0.8s\n",
      "[CV 1/5] END ..........C=1, gamma=1, kernel=rbf;, score=0.721 total time=   0.5s\n",
      "[CV 2/5] END ..........C=1, gamma=1, kernel=rbf;, score=0.760 total time=   0.5s\n",
      "[CV 3/5] END ..........C=1, gamma=1, kernel=rbf;, score=0.753 total time=   0.4s\n",
      "[CV 4/5] END ..........C=1, gamma=1, kernel=rbf;, score=0.753 total time=   0.5s\n",
      "[CV 5/5] END ..........C=1, gamma=1, kernel=rbf;, score=0.757 total time=   0.5s\n",
      "[CV 1/5] END ........C=1, gamma=0.1, kernel=rbf;, score=0.721 total time=   0.5s\n",
      "[CV 2/5] END ........C=1, gamma=0.1, kernel=rbf;, score=0.731 total time=   0.6s\n",
      "[CV 3/5] END ........C=1, gamma=0.1, kernel=rbf;, score=0.721 total time=   0.5s\n",
      "[CV 4/5] END ........C=1, gamma=0.1, kernel=rbf;, score=0.734 total time=   0.7s\n",
      "[CV 5/5] END ........C=1, gamma=0.1, kernel=rbf;, score=0.743 total time=   0.5s\n",
      "[CV 1/5] END .......C=1, gamma=0.01, kernel=rbf;, score=0.699 total time=   0.6s\n",
      "[CV 2/5] END .......C=1, gamma=0.01, kernel=rbf;, score=0.714 total time=   0.5s\n",
      "[CV 3/5] END .......C=1, gamma=0.01, kernel=rbf;, score=0.707 total time=   0.5s\n",
      "[CV 4/5] END .......C=1, gamma=0.01, kernel=rbf;, score=0.712 total time=   0.5s\n",
      "[CV 5/5] END .......C=1, gamma=0.01, kernel=rbf;, score=0.707 total time=   0.5s\n",
      "[CV 1/5] END ......C=1, gamma=0.001, kernel=rbf;, score=0.699 total time=   0.6s\n",
      "[CV 2/5] END ......C=1, gamma=0.001, kernel=rbf;, score=0.714 total time=   0.6s\n",
      "[CV 3/5] END ......C=1, gamma=0.001, kernel=rbf;, score=0.707 total time=   0.7s\n",
      "[CV 4/5] END ......C=1, gamma=0.001, kernel=rbf;, score=0.712 total time=   0.7s\n",
      "[CV 5/5] END ......C=1, gamma=0.001, kernel=rbf;, score=0.707 total time=   0.6s\n",
      "[CV 1/5] END .....C=1, gamma=0.0001, kernel=rbf;, score=0.511 total time=   0.7s\n",
      "[CV 2/5] END .....C=1, gamma=0.0001, kernel=rbf;, score=0.511 total time=   0.7s\n",
      "[CV 3/5] END .....C=1, gamma=0.0001, kernel=rbf;, score=0.511 total time=   0.7s\n",
      "[CV 4/5] END .....C=1, gamma=0.0001, kernel=rbf;, score=0.511 total time=   0.8s\n",
      "[CV 5/5] END .....C=1, gamma=0.0001, kernel=rbf;, score=0.511 total time=   0.7s\n",
      "[CV 1/5] END .........C=10, gamma=1, kernel=rbf;, score=0.757 total time=   0.4s\n",
      "[CV 2/5] END .........C=10, gamma=1, kernel=rbf;, score=0.785 total time=   0.4s\n",
      "[CV 3/5] END .........C=10, gamma=1, kernel=rbf;, score=0.764 total time=   0.4s\n",
      "[CV 4/5] END .........C=10, gamma=1, kernel=rbf;, score=0.779 total time=   0.4s\n",
      "[CV 5/5] END .........C=10, gamma=1, kernel=rbf;, score=0.780 total time=   0.4s\n",
      "[CV 1/5] END .......C=10, gamma=0.1, kernel=rbf;, score=0.748 total time=   0.4s\n",
      "[CV 2/5] END .......C=10, gamma=0.1, kernel=rbf;, score=0.785 total time=   0.4s\n",
      "[CV 3/5] END .......C=10, gamma=0.1, kernel=rbf;, score=0.769 total time=   0.4s\n",
      "[CV 4/5] END .......C=10, gamma=0.1, kernel=rbf;, score=0.775 total time=   0.4s\n",
      "[CV 5/5] END .......C=10, gamma=0.1, kernel=rbf;, score=0.788 total time=   0.4s\n",
      "[CV 1/5] END ......C=10, gamma=0.01, kernel=rbf;, score=0.729 total time=   0.4s\n",
      "[CV 2/5] END ......C=10, gamma=0.01, kernel=rbf;, score=0.742 total time=   0.4s\n",
      "[CV 3/5] END ......C=10, gamma=0.01, kernel=rbf;, score=0.723 total time=   0.5s\n",
      "[CV 4/5] END ......C=10, gamma=0.01, kernel=rbf;, score=0.736 total time=   0.4s\n",
      "[CV 5/5] END ......C=10, gamma=0.01, kernel=rbf;, score=0.737 total time=   0.4s\n",
      "[CV 1/5] END .....C=10, gamma=0.001, kernel=rbf;, score=0.699 total time=   0.5s\n",
      "[CV 2/5] END .....C=10, gamma=0.001, kernel=rbf;, score=0.714 total time=   0.6s\n",
      "[CV 3/5] END .....C=10, gamma=0.001, kernel=rbf;, score=0.707 total time=   0.5s\n",
      "[CV 4/5] END .....C=10, gamma=0.001, kernel=rbf;, score=0.712 total time=   0.5s\n",
      "[CV 5/5] END .....C=10, gamma=0.001, kernel=rbf;, score=0.707 total time=   0.5s\n",
      "[CV 1/5] END ....C=10, gamma=0.0001, kernel=rbf;, score=0.699 total time=   0.6s\n",
      "[CV 2/5] END ....C=10, gamma=0.0001, kernel=rbf;, score=0.714 total time=   0.6s\n",
      "[CV 3/5] END ....C=10, gamma=0.0001, kernel=rbf;, score=0.707 total time=   0.6s\n",
      "[CV 4/5] END ....C=10, gamma=0.0001, kernel=rbf;, score=0.712 total time=   0.6s\n",
      "[CV 5/5] END ....C=10, gamma=0.0001, kernel=rbf;, score=0.707 total time=   0.6s\n",
      "[CV 1/5] END ........C=100, gamma=1, kernel=rbf;, score=0.757 total time=   0.6s\n",
      "[CV 2/5] END ........C=100, gamma=1, kernel=rbf;, score=0.775 total time=   0.6s\n",
      "[CV 3/5] END ........C=100, gamma=1, kernel=rbf;, score=0.782 total time=   0.6s\n",
      "[CV 4/5] END ........C=100, gamma=1, kernel=rbf;, score=0.768 total time=   0.5s\n",
      "[CV 5/5] END ........C=100, gamma=1, kernel=rbf;, score=0.778 total time=   0.6s\n",
      "[CV 1/5] END ......C=100, gamma=0.1, kernel=rbf;, score=0.774 total time=   0.4s\n",
      "[CV 2/5] END ......C=100, gamma=0.1, kernel=rbf;, score=0.801 total time=   0.4s\n",
      "[CV 3/5] END ......C=100, gamma=0.1, kernel=rbf;, score=0.799 total time=   0.5s\n",
      "[CV 4/5] END ......C=100, gamma=0.1, kernel=rbf;, score=0.791 total time=   0.4s\n",
      "[CV 5/5] END ......C=100, gamma=0.1, kernel=rbf;, score=0.812 total time=   0.5s\n",
      "[CV 1/5] END .....C=100, gamma=0.01, kernel=rbf;, score=0.740 total time=   0.4s\n",
      "[CV 2/5] END .....C=100, gamma=0.01, kernel=rbf;, score=0.769 total time=   0.4s\n",
      "[CV 3/5] END .....C=100, gamma=0.01, kernel=rbf;, score=0.741 total time=   0.4s\n",
      "[CV 4/5] END .....C=100, gamma=0.01, kernel=rbf;, score=0.759 total time=   0.4s\n",
      "[CV 5/5] END .....C=100, gamma=0.01, kernel=rbf;, score=0.786 total time=   0.4s\n",
      "[CV 1/5] END ....C=100, gamma=0.001, kernel=rbf;, score=0.726 total time=   0.4s\n",
      "[CV 2/5] END ....C=100, gamma=0.001, kernel=rbf;, score=0.743 total time=   0.4s\n",
      "[CV 3/5] END ....C=100, gamma=0.001, kernel=rbf;, score=0.728 total time=   0.4s\n",
      "[CV 4/5] END ....C=100, gamma=0.001, kernel=rbf;, score=0.731 total time=   0.4s\n",
      "[CV 5/5] END ....C=100, gamma=0.001, kernel=rbf;, score=0.733 total time=   0.4s\n",
      "[CV 1/5] END ...C=100, gamma=0.0001, kernel=rbf;, score=0.699 total time=   0.5s\n",
      "[CV 2/5] END ...C=100, gamma=0.0001, kernel=rbf;, score=0.714 total time=   0.5s\n",
      "[CV 3/5] END ...C=100, gamma=0.0001, kernel=rbf;, score=0.707 total time=   0.5s\n",
      "[CV 4/5] END ...C=100, gamma=0.0001, kernel=rbf;, score=0.712 total time=   0.5s\n",
      "[CV 5/5] END ...C=100, gamma=0.0001, kernel=rbf;, score=0.707 total time=   0.5s\n",
      "[CV 1/5] END .......C=1000, gamma=1, kernel=rbf;, score=0.770 total time=   1.6s\n"
     ]
    },
    {
     "name": "stdout",
     "output_type": "stream",
     "text": [
      "[CV 2/5] END .......C=1000, gamma=1, kernel=rbf;, score=0.761 total time=   1.6s\n",
      "[CV 3/5] END .......C=1000, gamma=1, kernel=rbf;, score=0.769 total time=   1.5s\n",
      "[CV 4/5] END .......C=1000, gamma=1, kernel=rbf;, score=0.777 total time=   1.4s\n",
      "[CV 5/5] END .......C=1000, gamma=1, kernel=rbf;, score=0.766 total time=   1.6s\n",
      "[CV 1/5] END .....C=1000, gamma=0.1, kernel=rbf;, score=0.772 total time=   0.8s\n",
      "[CV 2/5] END .....C=1000, gamma=0.1, kernel=rbf;, score=0.793 total time=   0.9s\n",
      "[CV 3/5] END .....C=1000, gamma=0.1, kernel=rbf;, score=0.805 total time=   0.8s\n",
      "[CV 4/5] END .....C=1000, gamma=0.1, kernel=rbf;, score=0.796 total time=   1.0s\n",
      "[CV 5/5] END .....C=1000, gamma=0.1, kernel=rbf;, score=0.796 total time=   0.8s\n",
      "[CV 1/5] END ....C=1000, gamma=0.01, kernel=rbf;, score=0.774 total time=   0.5s\n",
      "[CV 2/5] END ....C=1000, gamma=0.01, kernel=rbf;, score=0.808 total time=   0.5s\n",
      "[CV 3/5] END ....C=1000, gamma=0.01, kernel=rbf;, score=0.804 total time=   0.6s\n",
      "[CV 4/5] END ....C=1000, gamma=0.01, kernel=rbf;, score=0.793 total time=   0.8s\n",
      "[CV 5/5] END ....C=1000, gamma=0.01, kernel=rbf;, score=0.814 total time=   0.6s\n",
      "[CV 1/5] END ...C=1000, gamma=0.001, kernel=rbf;, score=0.736 total time=   0.6s\n",
      "[CV 2/5] END ...C=1000, gamma=0.001, kernel=rbf;, score=0.757 total time=   0.5s\n",
      "[CV 3/5] END ...C=1000, gamma=0.001, kernel=rbf;, score=0.737 total time=   0.5s\n",
      "[CV 4/5] END ...C=1000, gamma=0.001, kernel=rbf;, score=0.746 total time=   0.5s\n",
      "[CV 5/5] END ...C=1000, gamma=0.001, kernel=rbf;, score=0.772 total time=   0.5s\n",
      "[CV 1/5] END ..C=1000, gamma=0.0001, kernel=rbf;, score=0.727 total time=   0.6s\n",
      "[CV 2/5] END ..C=1000, gamma=0.0001, kernel=rbf;, score=0.739 total time=   0.6s\n",
      "[CV 3/5] END ..C=1000, gamma=0.0001, kernel=rbf;, score=0.728 total time=   0.6s\n",
      "[CV 4/5] END ..C=1000, gamma=0.0001, kernel=rbf;, score=0.731 total time=   0.6s\n",
      "[CV 5/5] END ..C=1000, gamma=0.0001, kernel=rbf;, score=0.732 total time=   0.5s\n"
     ]
    },
    {
     "data": {
      "text/html": [
       "<style>#sk-container-id-3 {color: black;background-color: white;}#sk-container-id-3 pre{padding: 0;}#sk-container-id-3 div.sk-toggleable {background-color: white;}#sk-container-id-3 label.sk-toggleable__label {cursor: pointer;display: block;width: 100%;margin-bottom: 0;padding: 0.3em;box-sizing: border-box;text-align: center;}#sk-container-id-3 label.sk-toggleable__label-arrow:before {content: \"▸\";float: left;margin-right: 0.25em;color: #696969;}#sk-container-id-3 label.sk-toggleable__label-arrow:hover:before {color: black;}#sk-container-id-3 div.sk-estimator:hover label.sk-toggleable__label-arrow:before {color: black;}#sk-container-id-3 div.sk-toggleable__content {max-height: 0;max-width: 0;overflow: hidden;text-align: left;background-color: #f0f8ff;}#sk-container-id-3 div.sk-toggleable__content pre {margin: 0.2em;color: black;border-radius: 0.25em;background-color: #f0f8ff;}#sk-container-id-3 input.sk-toggleable__control:checked~div.sk-toggleable__content {max-height: 200px;max-width: 100%;overflow: auto;}#sk-container-id-3 input.sk-toggleable__control:checked~label.sk-toggleable__label-arrow:before {content: \"▾\";}#sk-container-id-3 div.sk-estimator input.sk-toggleable__control:checked~label.sk-toggleable__label {background-color: #d4ebff;}#sk-container-id-3 div.sk-label input.sk-toggleable__control:checked~label.sk-toggleable__label {background-color: #d4ebff;}#sk-container-id-3 input.sk-hidden--visually {border: 0;clip: rect(1px 1px 1px 1px);clip: rect(1px, 1px, 1px, 1px);height: 1px;margin: -1px;overflow: hidden;padding: 0;position: absolute;width: 1px;}#sk-container-id-3 div.sk-estimator {font-family: monospace;background-color: #f0f8ff;border: 1px dotted black;border-radius: 0.25em;box-sizing: border-box;margin-bottom: 0.5em;}#sk-container-id-3 div.sk-estimator:hover {background-color: #d4ebff;}#sk-container-id-3 div.sk-parallel-item::after {content: \"\";width: 100%;border-bottom: 1px solid gray;flex-grow: 1;}#sk-container-id-3 div.sk-label:hover label.sk-toggleable__label {background-color: #d4ebff;}#sk-container-id-3 div.sk-serial::before {content: \"\";position: absolute;border-left: 1px solid gray;box-sizing: border-box;top: 0;bottom: 0;left: 50%;z-index: 0;}#sk-container-id-3 div.sk-serial {display: flex;flex-direction: column;align-items: center;background-color: white;padding-right: 0.2em;padding-left: 0.2em;position: relative;}#sk-container-id-3 div.sk-item {position: relative;z-index: 1;}#sk-container-id-3 div.sk-parallel {display: flex;align-items: stretch;justify-content: center;background-color: white;position: relative;}#sk-container-id-3 div.sk-item::before, #sk-container-id-3 div.sk-parallel-item::before {content: \"\";position: absolute;border-left: 1px solid gray;box-sizing: border-box;top: 0;bottom: 0;left: 50%;z-index: -1;}#sk-container-id-3 div.sk-parallel-item {display: flex;flex-direction: column;z-index: 1;position: relative;background-color: white;}#sk-container-id-3 div.sk-parallel-item:first-child::after {align-self: flex-end;width: 50%;}#sk-container-id-3 div.sk-parallel-item:last-child::after {align-self: flex-start;width: 50%;}#sk-container-id-3 div.sk-parallel-item:only-child::after {width: 0;}#sk-container-id-3 div.sk-dashed-wrapped {border: 1px dashed gray;margin: 0 0.4em 0.5em 0.4em;box-sizing: border-box;padding-bottom: 0.4em;background-color: white;}#sk-container-id-3 div.sk-label label {font-family: monospace;font-weight: bold;display: inline-block;line-height: 1.2em;}#sk-container-id-3 div.sk-label-container {text-align: center;}#sk-container-id-3 div.sk-container {/* jupyter's `normalize.less` sets `[hidden] { display: none; }` but bootstrap.min.css set `[hidden] { display: none !important; }` so we also need the `!important` here to be able to override the default hidden behavior on the sphinx rendered scikit-learn.org. See: https://github.com/scikit-learn/scikit-learn/issues/21755 */display: inline-block !important;position: relative;}#sk-container-id-3 div.sk-text-repr-fallback {display: none;}</style><div id=\"sk-container-id-3\" class=\"sk-top-container\"><div class=\"sk-text-repr-fallback\"><pre>GridSearchCV(estimator=SVC(),\n",
       "             param_grid={&#x27;C&#x27;: [0.1, 1, 10, 100, 1000],\n",
       "                         &#x27;gamma&#x27;: [1, 0.1, 0.01, 0.001, 0.0001],\n",
       "                         &#x27;kernel&#x27;: [&#x27;rbf&#x27;]},\n",
       "             verbose=3)</pre><b>In a Jupyter environment, please rerun this cell to show the HTML representation or trust the notebook. <br />On GitHub, the HTML representation is unable to render, please try loading this page with nbviewer.org.</b></div><div class=\"sk-container\" hidden><div class=\"sk-item sk-dashed-wrapped\"><div class=\"sk-label-container\"><div class=\"sk-label sk-toggleable\"><input class=\"sk-toggleable__control sk-hidden--visually\" id=\"sk-estimator-id-3\" type=\"checkbox\" ><label for=\"sk-estimator-id-3\" class=\"sk-toggleable__label sk-toggleable__label-arrow\">GridSearchCV</label><div class=\"sk-toggleable__content\"><pre>GridSearchCV(estimator=SVC(),\n",
       "             param_grid={&#x27;C&#x27;: [0.1, 1, 10, 100, 1000],\n",
       "                         &#x27;gamma&#x27;: [1, 0.1, 0.01, 0.001, 0.0001],\n",
       "                         &#x27;kernel&#x27;: [&#x27;rbf&#x27;]},\n",
       "             verbose=3)</pre></div></div></div><div class=\"sk-parallel\"><div class=\"sk-parallel-item\"><div class=\"sk-item\"><div class=\"sk-label-container\"><div class=\"sk-label sk-toggleable\"><input class=\"sk-toggleable__control sk-hidden--visually\" id=\"sk-estimator-id-4\" type=\"checkbox\" ><label for=\"sk-estimator-id-4\" class=\"sk-toggleable__label sk-toggleable__label-arrow\">estimator: SVC</label><div class=\"sk-toggleable__content\"><pre>SVC()</pre></div></div></div><div class=\"sk-serial\"><div class=\"sk-item\"><div class=\"sk-estimator sk-toggleable\"><input class=\"sk-toggleable__control sk-hidden--visually\" id=\"sk-estimator-id-5\" type=\"checkbox\" ><label for=\"sk-estimator-id-5\" class=\"sk-toggleable__label sk-toggleable__label-arrow\">SVC</label><div class=\"sk-toggleable__content\"><pre>SVC()</pre></div></div></div></div></div></div></div></div></div></div>"
      ],
      "text/plain": [
       "GridSearchCV(estimator=SVC(),\n",
       "             param_grid={'C': [0.1, 1, 10, 100, 1000],\n",
       "                         'gamma': [1, 0.1, 0.01, 0.001, 0.0001],\n",
       "                         'kernel': ['rbf']},\n",
       "             verbose=3)"
      ]
     },
     "execution_count": 79,
     "metadata": {},
     "output_type": "execute_result"
    }
   ],
   "source": [
    "grid.fit(x_train,y_train)"
   ]
  },
  {
   "cell_type": "code",
   "execution_count": 80,
   "id": "c061c9a0",
   "metadata": {},
   "outputs": [
    {
     "data": {
      "text/plain": [
       "{'C': 1000, 'gamma': 0.01, 'kernel': 'rbf'}"
      ]
     },
     "execution_count": 80,
     "metadata": {},
     "output_type": "execute_result"
    }
   ],
   "source": [
    "grid.best_params_"
   ]
  },
  {
   "cell_type": "code",
   "execution_count": 81,
   "id": "9e730986",
   "metadata": {},
   "outputs": [
    {
     "name": "stdout",
     "output_type": "stream",
     "text": [
      "0.8120542082738944\n"
     ]
    }
   ],
   "source": [
    "grid_pred=grid.predict(x_test)\n",
    "print(accuracy_score(y_test,grid_pred))"
   ]
  },
  {
   "cell_type": "code",
   "execution_count": 84,
   "id": "5296d4ba",
   "metadata": {},
   "outputs": [
    {
     "name": "stdout",
     "output_type": "stream",
     "text": [
      "[1, 3, 5, 7, 9, 11, 13, 15, 17, 19, 21, 23, 25, 27, 29, 31, 33, 35, 37, 39, 41, 43, 45, 47, 49, 51, 53, 55, 57, 59, 61, 63, 65, 67, 69, 71, 73, 75, 77, 79, 81, 83, 85, 87, 89, 91, 93, 95, 97, 99]\n"
     ]
    }
   ],
   "source": [
    "parameters = list(range(1,101,2))\n",
    "print(parameters)"
   ]
  },
  {
   "cell_type": "code",
   "execution_count": 86,
   "id": "5d5b810d",
   "metadata": {},
   "outputs": [],
   "source": [
    "param_grid = {'n_estimators':parameters} \n",
    "grid = GridSearchCV(RandomForestClassifier(),param_grid,refit=True,verbose=3)"
   ]
  },
  {
   "cell_type": "code",
   "execution_count": 89,
   "id": "b60f65c3",
   "metadata": {
    "scrolled": true
   },
   "outputs": [
    {
     "name": "stdout",
     "output_type": "stream",
     "text": [
      "Fitting 5 folds for each of 50 candidates, totalling 250 fits\n",
      "[CV 1/5] END ....................n_estimators=1;, score=0.702 total time=   0.0s\n",
      "[CV 2/5] END ....................n_estimators=1;, score=0.727 total time=   0.0s\n",
      "[CV 3/5] END ....................n_estimators=1;, score=0.733 total time=   0.0s\n",
      "[CV 4/5] END ....................n_estimators=1;, score=0.699 total time=   0.0s\n",
      "[CV 5/5] END ....................n_estimators=1;, score=0.705 total time=   0.0s\n",
      "[CV 1/5] END ....................n_estimators=3;, score=0.733 total time=   0.0s\n",
      "[CV 2/5] END ....................n_estimators=3;, score=0.740 total time=   0.0s\n",
      "[CV 3/5] END ....................n_estimators=3;, score=0.756 total time=   0.0s\n",
      "[CV 4/5] END ....................n_estimators=3;, score=0.747 total time=   0.0s\n",
      "[CV 5/5] END ....................n_estimators=3;, score=0.752 total time=   0.0s\n",
      "[CV 1/5] END ....................n_estimators=5;, score=0.748 total time=   0.0s\n",
      "[CV 2/5] END ....................n_estimators=5;, score=0.765 total time=   0.0s\n",
      "[CV 3/5] END ....................n_estimators=5;, score=0.778 total time=   0.0s\n",
      "[CV 4/5] END ....................n_estimators=5;, score=0.754 total time=   0.0s\n",
      "[CV 5/5] END ....................n_estimators=5;, score=0.773 total time=   0.0s\n",
      "[CV 1/5] END ....................n_estimators=7;, score=0.768 total time=   0.0s\n",
      "[CV 2/5] END ....................n_estimators=7;, score=0.784 total time=   0.0s\n",
      "[CV 3/5] END ....................n_estimators=7;, score=0.784 total time=   0.0s\n",
      "[CV 4/5] END ....................n_estimators=7;, score=0.764 total time=   0.0s\n",
      "[CV 5/5] END ....................n_estimators=7;, score=0.769 total time=   0.0s\n",
      "[CV 1/5] END ....................n_estimators=9;, score=0.757 total time=   0.0s\n",
      "[CV 2/5] END ....................n_estimators=9;, score=0.774 total time=   0.0s\n",
      "[CV 3/5] END ....................n_estimators=9;, score=0.772 total time=   0.0s\n",
      "[CV 4/5] END ....................n_estimators=9;, score=0.762 total time=   0.0s\n",
      "[CV 5/5] END ....................n_estimators=9;, score=0.780 total time=   0.0s\n",
      "[CV 1/5] END ...................n_estimators=11;, score=0.761 total time=   0.0s\n",
      "[CV 2/5] END ...................n_estimators=11;, score=0.774 total time=   0.0s\n",
      "[CV 3/5] END ...................n_estimators=11;, score=0.801 total time=   0.0s\n",
      "[CV 4/5] END ...................n_estimators=11;, score=0.778 total time=   0.0s\n",
      "[CV 5/5] END ...................n_estimators=11;, score=0.788 total time=   0.0s\n",
      "[CV 1/5] END ...................n_estimators=13;, score=0.774 total time=   0.0s\n",
      "[CV 2/5] END ...................n_estimators=13;, score=0.783 total time=   0.0s\n",
      "[CV 3/5] END ...................n_estimators=13;, score=0.795 total time=   0.0s\n",
      "[CV 4/5] END ...................n_estimators=13;, score=0.777 total time=   0.0s\n",
      "[CV 5/5] END ...................n_estimators=13;, score=0.772 total time=   0.0s\n",
      "[CV 1/5] END ...................n_estimators=15;, score=0.760 total time=   0.0s\n",
      "[CV 2/5] END ...................n_estimators=15;, score=0.769 total time=   0.0s\n",
      "[CV 3/5] END ...................n_estimators=15;, score=0.802 total time=   0.0s\n",
      "[CV 4/5] END ...................n_estimators=15;, score=0.776 total time=   0.0s\n",
      "[CV 5/5] END ...................n_estimators=15;, score=0.775 total time=   0.0s\n",
      "[CV 1/5] END ...................n_estimators=17;, score=0.770 total time=   0.0s\n",
      "[CV 2/5] END ...................n_estimators=17;, score=0.778 total time=   0.0s\n",
      "[CV 3/5] END ...................n_estimators=17;, score=0.802 total time=   0.0s\n",
      "[CV 4/5] END ...................n_estimators=17;, score=0.784 total time=   0.0s\n",
      "[CV 5/5] END ...................n_estimators=17;, score=0.778 total time=   0.0s\n",
      "[CV 1/5] END ...................n_estimators=19;, score=0.778 total time=   0.0s\n",
      "[CV 2/5] END ...................n_estimators=19;, score=0.779 total time=   0.0s\n",
      "[CV 3/5] END ...................n_estimators=19;, score=0.811 total time=   0.0s\n",
      "[CV 4/5] END ...................n_estimators=19;, score=0.782 total time=   0.0s\n",
      "[CV 5/5] END ...................n_estimators=19;, score=0.780 total time=   0.0s\n",
      "[CV 1/5] END ...................n_estimators=21;, score=0.774 total time=   0.0s\n",
      "[CV 2/5] END ...................n_estimators=21;, score=0.780 total time=   0.0s\n",
      "[CV 3/5] END ...................n_estimators=21;, score=0.788 total time=   0.0s\n",
      "[CV 4/5] END ...................n_estimators=21;, score=0.785 total time=   0.0s\n",
      "[CV 5/5] END ...................n_estimators=21;, score=0.779 total time=   0.0s\n",
      "[CV 1/5] END ...................n_estimators=23;, score=0.776 total time=   0.0s\n",
      "[CV 2/5] END ...................n_estimators=23;, score=0.779 total time=   0.0s\n",
      "[CV 3/5] END ...................n_estimators=23;, score=0.801 total time=   0.0s\n",
      "[CV 4/5] END ...................n_estimators=23;, score=0.776 total time=   0.0s\n",
      "[CV 5/5] END ...................n_estimators=23;, score=0.783 total time=   0.0s\n",
      "[CV 1/5] END ...................n_estimators=25;, score=0.765 total time=   0.0s\n",
      "[CV 2/5] END ...................n_estimators=25;, score=0.780 total time=   0.0s\n",
      "[CV 3/5] END ...................n_estimators=25;, score=0.814 total time=   0.0s\n",
      "[CV 4/5] END ...................n_estimators=25;, score=0.778 total time=   0.0s\n",
      "[CV 5/5] END ...................n_estimators=25;, score=0.786 total time=   0.0s\n",
      "[CV 1/5] END ...................n_estimators=27;, score=0.781 total time=   0.0s\n",
      "[CV 2/5] END ...................n_estimators=27;, score=0.780 total time=   0.0s\n",
      "[CV 3/5] END ...................n_estimators=27;, score=0.808 total time=   0.0s\n",
      "[CV 4/5] END ...................n_estimators=27;, score=0.781 total time=   0.0s\n",
      "[CV 5/5] END ...................n_estimators=27;, score=0.783 total time=   0.0s\n",
      "[CV 1/5] END ...................n_estimators=29;, score=0.774 total time=   0.0s\n",
      "[CV 2/5] END ...................n_estimators=29;, score=0.790 total time=   0.0s\n",
      "[CV 3/5] END ...................n_estimators=29;, score=0.799 total time=   0.0s\n",
      "[CV 4/5] END ...................n_estimators=29;, score=0.772 total time=   0.0s\n",
      "[CV 5/5] END ...................n_estimators=29;, score=0.783 total time=   0.0s\n",
      "[CV 1/5] END ...................n_estimators=31;, score=0.781 total time=   0.0s\n",
      "[CV 2/5] END ...................n_estimators=31;, score=0.788 total time=   0.0s\n",
      "[CV 3/5] END ...................n_estimators=31;, score=0.807 total time=   0.0s\n",
      "[CV 4/5] END ...................n_estimators=31;, score=0.781 total time=   0.1s\n",
      "[CV 5/5] END ...................n_estimators=31;, score=0.791 total time=   0.0s\n",
      "[CV 1/5] END ...................n_estimators=33;, score=0.782 total time=   0.0s\n",
      "[CV 2/5] END ...................n_estimators=33;, score=0.780 total time=   0.1s\n",
      "[CV 3/5] END ...................n_estimators=33;, score=0.808 total time=   0.1s\n",
      "[CV 4/5] END ...................n_estimators=33;, score=0.787 total time=   0.0s\n",
      "[CV 5/5] END ...................n_estimators=33;, score=0.793 total time=   0.0s\n",
      "[CV 1/5] END ...................n_estimators=35;, score=0.777 total time=   0.1s\n",
      "[CV 2/5] END ...................n_estimators=35;, score=0.784 total time=   0.0s\n",
      "[CV 3/5] END ...................n_estimators=35;, score=0.806 total time=   0.0s\n",
      "[CV 4/5] END ...................n_estimators=35;, score=0.780 total time=   0.0s\n",
      "[CV 5/5] END ...................n_estimators=35;, score=0.788 total time=   0.0s\n",
      "[CV 1/5] END ...................n_estimators=37;, score=0.778 total time=   0.0s\n",
      "[CV 2/5] END ...................n_estimators=37;, score=0.789 total time=   0.0s\n",
      "[CV 3/5] END ...................n_estimators=37;, score=0.802 total time=   0.0s\n",
      "[CV 4/5] END ...................n_estimators=37;, score=0.786 total time=   0.1s\n",
      "[CV 5/5] END ...................n_estimators=37;, score=0.778 total time=   0.0s\n",
      "[CV 1/5] END ...................n_estimators=39;, score=0.780 total time=   0.1s\n",
      "[CV 2/5] END ...................n_estimators=39;, score=0.784 total time=   0.1s\n",
      "[CV 3/5] END ...................n_estimators=39;, score=0.805 total time=   0.0s\n",
      "[CV 4/5] END ...................n_estimators=39;, score=0.779 total time=   0.0s\n",
      "[CV 5/5] END ...................n_estimators=39;, score=0.780 total time=   0.0s\n",
      "[CV 1/5] END ...................n_estimators=41;, score=0.773 total time=   0.1s\n"
     ]
    },
    {
     "name": "stdout",
     "output_type": "stream",
     "text": [
      "[CV 2/5] END ...................n_estimators=41;, score=0.786 total time=   0.0s\n",
      "[CV 3/5] END ...................n_estimators=41;, score=0.807 total time=   0.0s\n",
      "[CV 4/5] END ...................n_estimators=41;, score=0.773 total time=   0.1s\n",
      "[CV 5/5] END ...................n_estimators=41;, score=0.788 total time=   0.0s\n",
      "[CV 1/5] END ...................n_estimators=43;, score=0.787 total time=   0.1s\n",
      "[CV 2/5] END ...................n_estimators=43;, score=0.795 total time=   0.0s\n",
      "[CV 3/5] END ...................n_estimators=43;, score=0.812 total time=   0.1s\n",
      "[CV 4/5] END ...................n_estimators=43;, score=0.782 total time=   0.1s\n",
      "[CV 5/5] END ...................n_estimators=43;, score=0.790 total time=   0.1s\n",
      "[CV 1/5] END ...................n_estimators=45;, score=0.785 total time=   0.1s\n",
      "[CV 2/5] END ...................n_estimators=45;, score=0.779 total time=   0.1s\n",
      "[CV 3/5] END ...................n_estimators=45;, score=0.808 total time=   0.1s\n",
      "[CV 4/5] END ...................n_estimators=45;, score=0.778 total time=   0.1s\n",
      "[CV 5/5] END ...................n_estimators=45;, score=0.785 total time=   0.1s\n",
      "[CV 1/5] END ...................n_estimators=47;, score=0.779 total time=   0.1s\n",
      "[CV 2/5] END ...................n_estimators=47;, score=0.786 total time=   0.1s\n",
      "[CV 3/5] END ...................n_estimators=47;, score=0.808 total time=   0.1s\n",
      "[CV 4/5] END ...................n_estimators=47;, score=0.788 total time=   0.1s\n",
      "[CV 5/5] END ...................n_estimators=47;, score=0.788 total time=   0.1s\n",
      "[CV 1/5] END ...................n_estimators=49;, score=0.784 total time=   0.1s\n",
      "[CV 2/5] END ...................n_estimators=49;, score=0.789 total time=   0.1s\n",
      "[CV 3/5] END ...................n_estimators=49;, score=0.822 total time=   0.1s\n",
      "[CV 4/5] END ...................n_estimators=49;, score=0.783 total time=   0.1s\n",
      "[CV 5/5] END ...................n_estimators=49;, score=0.779 total time=   0.1s\n",
      "[CV 1/5] END ...................n_estimators=51;, score=0.791 total time=   0.1s\n",
      "[CV 2/5] END ...................n_estimators=51;, score=0.787 total time=   0.1s\n",
      "[CV 3/5] END ...................n_estimators=51;, score=0.809 total time=   0.1s\n",
      "[CV 4/5] END ...................n_estimators=51;, score=0.788 total time=   0.1s\n",
      "[CV 5/5] END ...................n_estimators=51;, score=0.786 total time=   0.1s\n",
      "[CV 1/5] END ...................n_estimators=53;, score=0.783 total time=   0.1s\n",
      "[CV 2/5] END ...................n_estimators=53;, score=0.790 total time=   0.1s\n",
      "[CV 3/5] END ...................n_estimators=53;, score=0.809 total time=   0.1s\n",
      "[CV 4/5] END ...................n_estimators=53;, score=0.776 total time=   0.1s\n",
      "[CV 5/5] END ...................n_estimators=53;, score=0.780 total time=   0.1s\n",
      "[CV 1/5] END ...................n_estimators=55;, score=0.789 total time=   0.1s\n",
      "[CV 2/5] END ...................n_estimators=55;, score=0.787 total time=   0.1s\n",
      "[CV 3/5] END ...................n_estimators=55;, score=0.807 total time=   0.1s\n",
      "[CV 4/5] END ...................n_estimators=55;, score=0.789 total time=   0.1s\n",
      "[CV 5/5] END ...................n_estimators=55;, score=0.799 total time=   0.1s\n",
      "[CV 1/5] END ...................n_estimators=57;, score=0.783 total time=   0.1s\n",
      "[CV 2/5] END ...................n_estimators=57;, score=0.784 total time=   0.1s\n",
      "[CV 3/5] END ...................n_estimators=57;, score=0.810 total time=   0.2s\n",
      "[CV 4/5] END ...................n_estimators=57;, score=0.772 total time=   0.1s\n",
      "[CV 5/5] END ...................n_estimators=57;, score=0.781 total time=   0.1s\n",
      "[CV 1/5] END ...................n_estimators=59;, score=0.771 total time=   0.1s\n",
      "[CV 2/5] END ...................n_estimators=59;, score=0.785 total time=   0.1s\n",
      "[CV 3/5] END ...................n_estimators=59;, score=0.814 total time=   0.1s\n",
      "[CV 4/5] END ...................n_estimators=59;, score=0.781 total time=   0.1s\n",
      "[CV 5/5] END ...................n_estimators=59;, score=0.785 total time=   0.1s\n",
      "[CV 1/5] END ...................n_estimators=61;, score=0.781 total time=   0.1s\n",
      "[CV 2/5] END ...................n_estimators=61;, score=0.783 total time=   0.1s\n",
      "[CV 3/5] END ...................n_estimators=61;, score=0.813 total time=   0.1s\n",
      "[CV 4/5] END ...................n_estimators=61;, score=0.778 total time=   0.1s\n",
      "[CV 5/5] END ...................n_estimators=61;, score=0.785 total time=   0.1s\n",
      "[CV 1/5] END ...................n_estimators=63;, score=0.788 total time=   0.1s\n",
      "[CV 2/5] END ...................n_estimators=63;, score=0.781 total time=   0.1s\n",
      "[CV 3/5] END ...................n_estimators=63;, score=0.804 total time=   0.1s\n",
      "[CV 4/5] END ...................n_estimators=63;, score=0.786 total time=   0.1s\n",
      "[CV 5/5] END ...................n_estimators=63;, score=0.793 total time=   0.1s\n",
      "[CV 1/5] END ...................n_estimators=65;, score=0.782 total time=   0.1s\n",
      "[CV 2/5] END ...................n_estimators=65;, score=0.792 total time=   0.1s\n",
      "[CV 3/5] END ...................n_estimators=65;, score=0.813 total time=   0.1s\n",
      "[CV 4/5] END ...................n_estimators=65;, score=0.781 total time=   0.2s\n",
      "[CV 5/5] END ...................n_estimators=65;, score=0.791 total time=   0.1s\n",
      "[CV 1/5] END ...................n_estimators=67;, score=0.779 total time=   0.1s\n",
      "[CV 2/5] END ...................n_estimators=67;, score=0.788 total time=   0.2s\n",
      "[CV 3/5] END ...................n_estimators=67;, score=0.814 total time=   0.2s\n",
      "[CV 4/5] END ...................n_estimators=67;, score=0.782 total time=   0.1s\n",
      "[CV 5/5] END ...................n_estimators=67;, score=0.793 total time=   0.1s\n",
      "[CV 1/5] END ...................n_estimators=69;, score=0.782 total time=   0.1s\n",
      "[CV 2/5] END ...................n_estimators=69;, score=0.789 total time=   0.1s\n",
      "[CV 3/5] END ...................n_estimators=69;, score=0.811 total time=   0.1s\n",
      "[CV 4/5] END ...................n_estimators=69;, score=0.788 total time=   0.1s\n",
      "[CV 5/5] END ...................n_estimators=69;, score=0.787 total time=   0.1s\n",
      "[CV 1/5] END ...................n_estimators=71;, score=0.786 total time=   0.2s\n",
      "[CV 2/5] END ...................n_estimators=71;, score=0.789 total time=   0.1s\n",
      "[CV 3/5] END ...................n_estimators=71;, score=0.811 total time=   0.2s\n",
      "[CV 4/5] END ...................n_estimators=71;, score=0.782 total time=   0.1s\n",
      "[CV 5/5] END ...................n_estimators=71;, score=0.790 total time=   0.1s\n",
      "[CV 1/5] END ...................n_estimators=73;, score=0.790 total time=   0.2s\n",
      "[CV 2/5] END ...................n_estimators=73;, score=0.788 total time=   0.2s\n",
      "[CV 3/5] END ...................n_estimators=73;, score=0.816 total time=   0.2s\n",
      "[CV 4/5] END ...................n_estimators=73;, score=0.782 total time=   0.2s\n",
      "[CV 5/5] END ...................n_estimators=73;, score=0.786 total time=   0.2s\n",
      "[CV 1/5] END ...................n_estimators=75;, score=0.793 total time=   0.1s\n",
      "[CV 2/5] END ...................n_estimators=75;, score=0.791 total time=   0.2s\n",
      "[CV 3/5] END ...................n_estimators=75;, score=0.815 total time=   0.2s\n",
      "[CV 4/5] END ...................n_estimators=75;, score=0.773 total time=   0.2s\n",
      "[CV 5/5] END ...................n_estimators=75;, score=0.786 total time=   0.2s\n",
      "[CV 1/5] END ...................n_estimators=77;, score=0.790 total time=   0.2s\n",
      "[CV 2/5] END ...................n_estimators=77;, score=0.787 total time=   0.2s\n",
      "[CV 3/5] END ...................n_estimators=77;, score=0.808 total time=   0.2s\n",
      "[CV 4/5] END ...................n_estimators=77;, score=0.785 total time=   0.2s\n",
      "[CV 5/5] END ...................n_estimators=77;, score=0.792 total time=   0.2s\n",
      "[CV 1/5] END ...................n_estimators=79;, score=0.791 total time=   0.2s\n",
      "[CV 2/5] END ...................n_estimators=79;, score=0.784 total time=   0.2s\n",
      "[CV 3/5] END ...................n_estimators=79;, score=0.811 total time=   0.2s\n",
      "[CV 4/5] END ...................n_estimators=79;, score=0.784 total time=   0.2s\n",
      "[CV 5/5] END ...................n_estimators=79;, score=0.786 total time=   0.2s\n",
      "[CV 1/5] END ...................n_estimators=81;, score=0.794 total time=   0.2s\n",
      "[CV 2/5] END ...................n_estimators=81;, score=0.782 total time=   0.2s\n",
      "[CV 3/5] END ...................n_estimators=81;, score=0.815 total time=   0.2s\n"
     ]
    },
    {
     "name": "stdout",
     "output_type": "stream",
     "text": [
      "[CV 4/5] END ...................n_estimators=81;, score=0.779 total time=   0.2s\n",
      "[CV 5/5] END ...................n_estimators=81;, score=0.786 total time=   0.2s\n",
      "[CV 1/5] END ...................n_estimators=83;, score=0.787 total time=   0.2s\n",
      "[CV 2/5] END ...................n_estimators=83;, score=0.783 total time=   0.2s\n",
      "[CV 3/5] END ...................n_estimators=83;, score=0.821 total time=   0.2s\n",
      "[CV 4/5] END ...................n_estimators=83;, score=0.779 total time=   0.2s\n",
      "[CV 5/5] END ...................n_estimators=83;, score=0.785 total time=   0.2s\n",
      "[CV 1/5] END ...................n_estimators=85;, score=0.786 total time=   0.2s\n",
      "[CV 2/5] END ...................n_estimators=85;, score=0.786 total time=   0.2s\n",
      "[CV 3/5] END ...................n_estimators=85;, score=0.813 total time=   0.2s\n",
      "[CV 4/5] END ...................n_estimators=85;, score=0.781 total time=   0.2s\n",
      "[CV 5/5] END ...................n_estimators=85;, score=0.790 total time=   0.2s\n",
      "[CV 1/5] END ...................n_estimators=87;, score=0.779 total time=   0.2s\n",
      "[CV 2/5] END ...................n_estimators=87;, score=0.784 total time=   0.2s\n",
      "[CV 3/5] END ...................n_estimators=87;, score=0.817 total time=   0.2s\n",
      "[CV 4/5] END ...................n_estimators=87;, score=0.776 total time=   0.2s\n",
      "[CV 5/5] END ...................n_estimators=87;, score=0.789 total time=   0.2s\n",
      "[CV 1/5] END ...................n_estimators=89;, score=0.783 total time=   0.2s\n",
      "[CV 2/5] END ...................n_estimators=89;, score=0.788 total time=   0.3s\n",
      "[CV 3/5] END ...................n_estimators=89;, score=0.817 total time=   0.3s\n",
      "[CV 4/5] END ...................n_estimators=89;, score=0.781 total time=   0.2s\n",
      "[CV 5/5] END ...................n_estimators=89;, score=0.791 total time=   0.2s\n",
      "[CV 1/5] END ...................n_estimators=91;, score=0.783 total time=   0.2s\n",
      "[CV 2/5] END ...................n_estimators=91;, score=0.788 total time=   0.2s\n",
      "[CV 3/5] END ...................n_estimators=91;, score=0.812 total time=   0.2s\n",
      "[CV 4/5] END ...................n_estimators=91;, score=0.776 total time=   0.2s\n",
      "[CV 5/5] END ...................n_estimators=91;, score=0.791 total time=   0.2s\n",
      "[CV 1/5] END ...................n_estimators=93;, score=0.778 total time=   0.2s\n",
      "[CV 2/5] END ...................n_estimators=93;, score=0.787 total time=   0.2s\n",
      "[CV 3/5] END ...................n_estimators=93;, score=0.808 total time=   0.2s\n",
      "[CV 4/5] END ...................n_estimators=93;, score=0.774 total time=   0.2s\n",
      "[CV 5/5] END ...................n_estimators=93;, score=0.797 total time=   0.2s\n",
      "[CV 1/5] END ...................n_estimators=95;, score=0.785 total time=   0.2s\n",
      "[CV 2/5] END ...................n_estimators=95;, score=0.789 total time=   0.2s\n",
      "[CV 3/5] END ...................n_estimators=95;, score=0.815 total time=   0.3s\n",
      "[CV 4/5] END ...................n_estimators=95;, score=0.784 total time=   0.2s\n",
      "[CV 5/5] END ...................n_estimators=95;, score=0.799 total time=   0.2s\n",
      "[CV 1/5] END ...................n_estimators=97;, score=0.786 total time=   0.2s\n",
      "[CV 2/5] END ...................n_estimators=97;, score=0.788 total time=   0.2s\n",
      "[CV 3/5] END ...................n_estimators=97;, score=0.814 total time=   0.2s\n",
      "[CV 4/5] END ...................n_estimators=97;, score=0.786 total time=   0.3s\n",
      "[CV 5/5] END ...................n_estimators=97;, score=0.783 total time=   0.2s\n",
      "[CV 1/5] END ...................n_estimators=99;, score=0.792 total time=   0.3s\n",
      "[CV 2/5] END ...................n_estimators=99;, score=0.793 total time=   0.3s\n",
      "[CV 3/5] END ...................n_estimators=99;, score=0.812 total time=   0.2s\n",
      "[CV 4/5] END ...................n_estimators=99;, score=0.787 total time=   0.2s\n",
      "[CV 5/5] END ...................n_estimators=99;, score=0.786 total time=   0.2s\n"
     ]
    },
    {
     "data": {
      "text/html": [
       "<style>#sk-container-id-4 {color: black;background-color: white;}#sk-container-id-4 pre{padding: 0;}#sk-container-id-4 div.sk-toggleable {background-color: white;}#sk-container-id-4 label.sk-toggleable__label {cursor: pointer;display: block;width: 100%;margin-bottom: 0;padding: 0.3em;box-sizing: border-box;text-align: center;}#sk-container-id-4 label.sk-toggleable__label-arrow:before {content: \"▸\";float: left;margin-right: 0.25em;color: #696969;}#sk-container-id-4 label.sk-toggleable__label-arrow:hover:before {color: black;}#sk-container-id-4 div.sk-estimator:hover label.sk-toggleable__label-arrow:before {color: black;}#sk-container-id-4 div.sk-toggleable__content {max-height: 0;max-width: 0;overflow: hidden;text-align: left;background-color: #f0f8ff;}#sk-container-id-4 div.sk-toggleable__content pre {margin: 0.2em;color: black;border-radius: 0.25em;background-color: #f0f8ff;}#sk-container-id-4 input.sk-toggleable__control:checked~div.sk-toggleable__content {max-height: 200px;max-width: 100%;overflow: auto;}#sk-container-id-4 input.sk-toggleable__control:checked~label.sk-toggleable__label-arrow:before {content: \"▾\";}#sk-container-id-4 div.sk-estimator input.sk-toggleable__control:checked~label.sk-toggleable__label {background-color: #d4ebff;}#sk-container-id-4 div.sk-label input.sk-toggleable__control:checked~label.sk-toggleable__label {background-color: #d4ebff;}#sk-container-id-4 input.sk-hidden--visually {border: 0;clip: rect(1px 1px 1px 1px);clip: rect(1px, 1px, 1px, 1px);height: 1px;margin: -1px;overflow: hidden;padding: 0;position: absolute;width: 1px;}#sk-container-id-4 div.sk-estimator {font-family: monospace;background-color: #f0f8ff;border: 1px dotted black;border-radius: 0.25em;box-sizing: border-box;margin-bottom: 0.5em;}#sk-container-id-4 div.sk-estimator:hover {background-color: #d4ebff;}#sk-container-id-4 div.sk-parallel-item::after {content: \"\";width: 100%;border-bottom: 1px solid gray;flex-grow: 1;}#sk-container-id-4 div.sk-label:hover label.sk-toggleable__label {background-color: #d4ebff;}#sk-container-id-4 div.sk-serial::before {content: \"\";position: absolute;border-left: 1px solid gray;box-sizing: border-box;top: 0;bottom: 0;left: 50%;z-index: 0;}#sk-container-id-4 div.sk-serial {display: flex;flex-direction: column;align-items: center;background-color: white;padding-right: 0.2em;padding-left: 0.2em;position: relative;}#sk-container-id-4 div.sk-item {position: relative;z-index: 1;}#sk-container-id-4 div.sk-parallel {display: flex;align-items: stretch;justify-content: center;background-color: white;position: relative;}#sk-container-id-4 div.sk-item::before, #sk-container-id-4 div.sk-parallel-item::before {content: \"\";position: absolute;border-left: 1px solid gray;box-sizing: border-box;top: 0;bottom: 0;left: 50%;z-index: -1;}#sk-container-id-4 div.sk-parallel-item {display: flex;flex-direction: column;z-index: 1;position: relative;background-color: white;}#sk-container-id-4 div.sk-parallel-item:first-child::after {align-self: flex-end;width: 50%;}#sk-container-id-4 div.sk-parallel-item:last-child::after {align-self: flex-start;width: 50%;}#sk-container-id-4 div.sk-parallel-item:only-child::after {width: 0;}#sk-container-id-4 div.sk-dashed-wrapped {border: 1px dashed gray;margin: 0 0.4em 0.5em 0.4em;box-sizing: border-box;padding-bottom: 0.4em;background-color: white;}#sk-container-id-4 div.sk-label label {font-family: monospace;font-weight: bold;display: inline-block;line-height: 1.2em;}#sk-container-id-4 div.sk-label-container {text-align: center;}#sk-container-id-4 div.sk-container {/* jupyter's `normalize.less` sets `[hidden] { display: none; }` but bootstrap.min.css set `[hidden] { display: none !important; }` so we also need the `!important` here to be able to override the default hidden behavior on the sphinx rendered scikit-learn.org. See: https://github.com/scikit-learn/scikit-learn/issues/21755 */display: inline-block !important;position: relative;}#sk-container-id-4 div.sk-text-repr-fallback {display: none;}</style><div id=\"sk-container-id-4\" class=\"sk-top-container\"><div class=\"sk-text-repr-fallback\"><pre>GridSearchCV(estimator=RandomForestClassifier(),\n",
       "             param_grid={&#x27;n_estimators&#x27;: [1, 3, 5, 7, 9, 11, 13, 15, 17, 19, 21,\n",
       "                                          23, 25, 27, 29, 31, 33, 35, 37, 39,\n",
       "                                          41, 43, 45, 47, 49, 51, 53, 55, 57,\n",
       "                                          59, ...]},\n",
       "             verbose=3)</pre><b>In a Jupyter environment, please rerun this cell to show the HTML representation or trust the notebook. <br />On GitHub, the HTML representation is unable to render, please try loading this page with nbviewer.org.</b></div><div class=\"sk-container\" hidden><div class=\"sk-item sk-dashed-wrapped\"><div class=\"sk-label-container\"><div class=\"sk-label sk-toggleable\"><input class=\"sk-toggleable__control sk-hidden--visually\" id=\"sk-estimator-id-6\" type=\"checkbox\" ><label for=\"sk-estimator-id-6\" class=\"sk-toggleable__label sk-toggleable__label-arrow\">GridSearchCV</label><div class=\"sk-toggleable__content\"><pre>GridSearchCV(estimator=RandomForestClassifier(),\n",
       "             param_grid={&#x27;n_estimators&#x27;: [1, 3, 5, 7, 9, 11, 13, 15, 17, 19, 21,\n",
       "                                          23, 25, 27, 29, 31, 33, 35, 37, 39,\n",
       "                                          41, 43, 45, 47, 49, 51, 53, 55, 57,\n",
       "                                          59, ...]},\n",
       "             verbose=3)</pre></div></div></div><div class=\"sk-parallel\"><div class=\"sk-parallel-item\"><div class=\"sk-item\"><div class=\"sk-label-container\"><div class=\"sk-label sk-toggleable\"><input class=\"sk-toggleable__control sk-hidden--visually\" id=\"sk-estimator-id-7\" type=\"checkbox\" ><label for=\"sk-estimator-id-7\" class=\"sk-toggleable__label sk-toggleable__label-arrow\">estimator: RandomForestClassifier</label><div class=\"sk-toggleable__content\"><pre>RandomForestClassifier()</pre></div></div></div><div class=\"sk-serial\"><div class=\"sk-item\"><div class=\"sk-estimator sk-toggleable\"><input class=\"sk-toggleable__control sk-hidden--visually\" id=\"sk-estimator-id-8\" type=\"checkbox\" ><label for=\"sk-estimator-id-8\" class=\"sk-toggleable__label sk-toggleable__label-arrow\">RandomForestClassifier</label><div class=\"sk-toggleable__content\"><pre>RandomForestClassifier()</pre></div></div></div></div></div></div></div></div></div></div>"
      ],
      "text/plain": [
       "GridSearchCV(estimator=RandomForestClassifier(),\n",
       "             param_grid={'n_estimators': [1, 3, 5, 7, 9, 11, 13, 15, 17, 19, 21,\n",
       "                                          23, 25, 27, 29, 31, 33, 35, 37, 39,\n",
       "                                          41, 43, 45, 47, 49, 51, 53, 55, 57,\n",
       "                                          59, ...]},\n",
       "             verbose=3)"
      ]
     },
     "execution_count": 89,
     "metadata": {},
     "output_type": "execute_result"
    }
   ],
   "source": [
    "grid.fit(x_train,y_train)"
   ]
  },
  {
   "cell_type": "code",
   "execution_count": 91,
   "id": "49e707cc",
   "metadata": {},
   "outputs": [
    {
     "data": {
      "text/plain": [
       "{'n_estimators': 55}"
      ]
     },
     "execution_count": 91,
     "metadata": {},
     "output_type": "execute_result"
    }
   ],
   "source": [
    "grid.best_params_"
   ]
  },
  {
   "cell_type": "code",
   "execution_count": 90,
   "id": "134f3f60",
   "metadata": {},
   "outputs": [
    {
     "name": "stdout",
     "output_type": "stream",
     "text": [
      "0.8159771754636234\n"
     ]
    }
   ],
   "source": [
    "grid_pred_rfc=grid.predict(x_test)\n",
    "print(accuracy_score(y_test,grid_pred_rfc))"
   ]
  },
  {
   "cell_type": "raw",
   "id": "1effa84a",
   "metadata": {},
   "source": []
  },
  {
   "cell_type": "code",
   "execution_count": null,
   "id": "270d2b7f",
   "metadata": {},
   "outputs": [],
   "source": []
  },
  {
   "cell_type": "markdown",
   "id": "409721eb",
   "metadata": {},
   "source": [
    "## Different Models Compared"
   ]
  },
  {
   "cell_type": "code",
   "execution_count": null,
   "id": "4f31a176",
   "metadata": {},
   "outputs": [],
   "source": []
  },
  {
   "cell_type": "markdown",
   "id": "ec3c88fe",
   "metadata": {},
   "source": [
    "## Ensemble Learning Implemented"
   ]
  },
  {
   "cell_type": "code",
   "execution_count": null,
   "id": "49d48c29",
   "metadata": {},
   "outputs": [],
   "source": [
    "# create the sub models\n",
    "x_train, x_test, y_train, y_test = train_test_split(scaled_feat,df[\"Transported\"] , test_size=0.25,random_state=42)\n",
    "estimators = []\n",
    "model1 = LogisticRegression()\n",
    "estimators.append(('lr', model1))\n",
    "model2 = RandomForestClassifier(n_estimators=75)\n",
    "estimators.append(('random forest', model2))\n",
    "model3 = SVC(C=1,gamma=0.001,probability=True)\n",
    "estimators.append(('svm', model3))\n",
    "vot_hard = VotingClassifier(estimators = estimators, voting ='hard',weights=[2,1,3])\n",
    "vot_hard.fit(x_train, y_train)\n",
    "y_pred = vot_hard.predict(x_test)\n",
    "vot_soft = VotingClassifier(estimators = estimators, voting ='soft',weights=[2,1,3])\n",
    "vot_soft.fit(x_train, y_train)\n",
    "y_pred = vot_soft.predict(x_test)\n",
    "from sklearn.metrics import classification_report,confusion_matrix\n",
    "for clf in (model1,model2,model3,vot_hard,vot_soft):\n",
    "        clf.fit(x_train, y_train)\n",
    "        y_pred = clf.predict(x_test)\n",
    "        print(clf.__class__.__name__)\n",
    "        print(confusion_matrix(y_test, y_pred))\n",
    "        print(classification_report(y_test,y_pred))\n",
    "        print('--------------------------------------')\n",
    "        \n",
    "    "
   ]
  }
 ],
 "metadata": {
  "kernelspec": {
   "display_name": "Python 3 (ipykernel)",
   "language": "python",
   "name": "python3"
  },
  "language_info": {
   "codemirror_mode": {
    "name": "ipython",
    "version": 3
   },
   "file_extension": ".py",
   "mimetype": "text/x-python",
   "name": "python",
   "nbconvert_exporter": "python",
   "pygments_lexer": "ipython3",
   "version": "3.9.7"
  }
 },
 "nbformat": 4,
 "nbformat_minor": 5
}
